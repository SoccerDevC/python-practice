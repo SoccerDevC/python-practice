{
 "cells": [
  {
   "cell_type": "code",
   "execution_count": 109,
   "id": "eb170430-1b38-457d-b2eb-b0fd37dcab1a",
   "metadata": {},
   "outputs": [],
   "source": [
    "class dictionary_parsing:\n",
    "    def __init__(self,d):\n",
    "        self.d = d\n",
    "\n",
    "    def get_keys(self):\n",
    "        return self.d.keys()\n",
    "\n",
    "    def get_values(self):\n",
    "        return self.d.values()\n",
    "\n",
    "    def check_input(self):\n",
    "        if type(self.d) != dict:\n",
    "             raise Exception(\"jjjjjj\")\n",
    "          \n",
    "\n",
    "    def return_value_key_pair(self,k,l):\n",
    "        self.d[k]=l\n",
    "        "
   ]
  },
  {
   "cell_type": "code",
   "execution_count": 111,
   "id": "85cd7413-ba1d-46e5-a32f-70dea5999a64",
   "metadata": {},
   "outputs": [],
   "source": [
    "g=dictionary_parsing({2:\"jjkjkk\", 3:\"Hihhh\"})"
   ]
  },
  {
   "cell_type": "code",
   "execution_count": 113,
   "id": "bd4e7b19-27dc-4240-bb00-bb2b76e1e498",
   "metadata": {},
   "outputs": [],
   "source": [
    "g.return_value_key_pair(3,\"kkll\")"
   ]
  },
  {
   "cell_type": "code",
   "execution_count": 115,
   "id": "cf8269ed-85b6-4607-8a63-487962efdfc1",
   "metadata": {},
   "outputs": [
    {
     "data": {
      "text/plain": [
       "dict_values(['jjkjkk', 'kkll'])"
      ]
     },
     "execution_count": 115,
     "metadata": {},
     "output_type": "execute_result"
    }
   ],
   "source": [
    "g.get_values()"
   ]
  },
  {
   "cell_type": "code",
   "execution_count": 117,
   "id": "acff462d-c62d-4237-9816-3544ec1901a4",
   "metadata": {},
   "outputs": [
    {
     "data": {
      "text/plain": [
       "dict_keys([2, 3])"
      ]
     },
     "execution_count": 117,
     "metadata": {},
     "output_type": "execute_result"
    }
   ],
   "source": [
    "g.get_keys()"
   ]
  },
  {
   "cell_type": "code",
   "execution_count": 119,
   "id": "7142a4c1-c491-4c29-b8c6-efba837ad52a",
   "metadata": {},
   "outputs": [],
   "source": [
    "j=dictionary_parsing(9)"
   ]
  },
  {
   "cell_type": "code",
   "execution_count": 121,
   "id": "2040fb41-6f54-4907-98dd-1cdc7992bce1",
   "metadata": {},
   "outputs": [
    {
     "ename": "Exception",
     "evalue": "jjjjjj",
     "output_type": "error",
     "traceback": [
      "\u001b[0;31m---------------------------------------------------------------------------\u001b[0m",
      "\u001b[0;31mException\u001b[0m                                 Traceback (most recent call last)",
      "Cell \u001b[0;32mIn[121], line 1\u001b[0m\n\u001b[0;32m----> 1\u001b[0m j\u001b[38;5;241m.\u001b[39mcheck_input()\n",
      "Cell \u001b[0;32mIn[109], line 13\u001b[0m, in \u001b[0;36mdictionary_parsing.check_input\u001b[0;34m(self)\u001b[0m\n\u001b[1;32m     11\u001b[0m \u001b[38;5;28;01mdef\u001b[39;00m \u001b[38;5;21mcheck_input\u001b[39m(\u001b[38;5;28mself\u001b[39m):\n\u001b[1;32m     12\u001b[0m     \u001b[38;5;28;01mif\u001b[39;00m \u001b[38;5;28mtype\u001b[39m(\u001b[38;5;28mself\u001b[39m\u001b[38;5;241m.\u001b[39md) \u001b[38;5;241m!=\u001b[39m \u001b[38;5;28mdict\u001b[39m:\n\u001b[0;32m---> 13\u001b[0m          \u001b[38;5;28;01mraise\u001b[39;00m \u001b[38;5;167;01mException\u001b[39;00m(\u001b[38;5;124m\"\u001b[39m\u001b[38;5;124mjjjjjj\u001b[39m\u001b[38;5;124m\"\u001b[39m)\n",
      "\u001b[0;31mException\u001b[0m: jjjjjj"
     ]
    }
   ],
   "source": [
    "j.check_input()"
   ]
  },
  {
   "cell_type": "code",
   "execution_count": null,
   "id": "8872f42c-180f-4d8c-ab57-25de7a1a120f",
   "metadata": {},
   "outputs": [],
   "source": []
  }
 ],
 "metadata": {
  "kernelspec": {
   "display_name": "Python [conda env:base] *",
   "language": "python",
   "name": "conda-base-py"
  },
  "language_info": {
   "codemirror_mode": {
    "name": "ipython",
    "version": 3
   },
   "file_extension": ".py",
   "mimetype": "text/x-python",
   "name": "python",
   "nbconvert_exporter": "python",
   "pygments_lexer": "ipython3",
   "version": "3.12.7"
  }
 },
 "nbformat": 4,
 "nbformat_minor": 5
}
