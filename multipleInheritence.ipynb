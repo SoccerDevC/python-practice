{
 "cells": [
  {
   "cell_type": "code",
   "execution_count": 58,
   "id": "ae8093b2-da6e-4344-aed1-381cca879cc8",
   "metadata": {},
   "outputs": [],
   "source": [
    "import logging\n",
    "\n",
    "logging.basicConfig(filename=\"multi.log\", level = logging.DEBUG, format= '%(asctime)s %(message)s' , filemode=\"w\")\n",
    "class accessFile:\n",
    "    def __init__(self, file):\n",
    "        logging.info(\"creating class\")\n",
    "        self.file=file\n",
    "\n",
    "    def read(self):\n",
    "        try:\n",
    "            with open(f\"{self.file}.txt\", \"r\") as f\n",
    "                logging.info(\"Opening file\")\n",
    "                content = f.read()\n",
    "                f.close()\n",
    "                logging.info(\"File closed\")\n",
    "                return content\n",
    "        except Exception as e:\n",
    "            logging.error(f\"An error has been encountered {e}\")\n",
    "        \n",
    "        \n",
    "    def write(self,text):\n",
    "        logging.info(\"Write function\")\n",
    "        try:\n",
    "            with open(f\"{self.file}.txt\",\"w\") as d\n",
    "                logging.info(\"Opening file\")\n",
    "                d.write(text)\n",
    "                logging.info(\"written to file\")\n",
    "                write_file.close()\n",
    "        except Exception as e:\n",
    "            logging.error(\"An error has occured \",e)"
   ]
  },
  {
   "cell_type": "code",
   "execution_count": 60,
   "id": "a71de11b-df6c-4e74-9f89-2f6a85ffe024",
   "metadata": {},
   "outputs": [],
   "source": [
    "f=accessFile(\"abc\")"
   ]
  },
  {
   "cell_type": "code",
   "execution_count": 62,
   "id": "eba2307e-9163-49ff-907d-8c25af73b253",
   "metadata": {},
   "outputs": [],
   "source": [
    "f.write(\"fwefewfwefef\")"
   ]
  },
  {
   "cell_type": "code",
   "execution_count": 64,
   "id": "e2b43e91-cc2b-4934-a986-b9d06b928922",
   "metadata": {},
   "outputs": [
    {
     "data": {
      "text/plain": [
       "'fwefewfwefef'"
      ]
     },
     "execution_count": 64,
     "metadata": {},
     "output_type": "execute_result"
    }
   ],
   "source": [
    "f.read()"
   ]
  },
  {
   "cell_type": "code",
   "execution_count": 66,
   "id": "1ba43e36-2577-4fe3-bf43-15016f372063",
   "metadata": {},
   "outputs": [],
   "source": [
    "class child(accessFile):\n",
    "    pass\n",
    "c = child(\"test\")"
   ]
  },
  {
   "cell_type": "code",
   "execution_count": 68,
   "id": "4fdadc92-0c2a-448d-b1f8-c7f511092d8e",
   "metadata": {},
   "outputs": [],
   "source": [
    "c.write(\"people are stupiddd\")"
   ]
  },
  {
   "cell_type": "code",
   "execution_count": 70,
   "id": "cd158047-91bd-4e23-9c75-40a3d987728d",
   "metadata": {},
   "outputs": [
    {
     "data": {
      "text/plain": [
       "'people are stupiddd'"
      ]
     },
     "execution_count": 70,
     "metadata": {},
     "output_type": "execute_result"
    }
   ],
   "source": [
    "c.read()"
   ]
  },
  {
   "cell_type": "code",
   "execution_count": null,
   "id": "0f346537-1051-4913-aa9f-221ae506c256",
   "metadata": {},
   "outputs": [],
   "source": []
  }
 ],
 "metadata": {
  "kernelspec": {
   "display_name": "Python [conda env:base] *",
   "language": "python",
   "name": "conda-base-py"
  },
  "language_info": {
   "codemirror_mode": {
    "name": "ipython",
    "version": 3
   },
   "file_extension": ".py",
   "mimetype": "text/x-python",
   "name": "python",
   "nbconvert_exporter": "python",
   "pygments_lexer": "ipython3",
   "version": "3.12.7"
  }
 },
 "nbformat": 4,
 "nbformat_minor": 5
}
