{
 "cells": [
  {
   "cell_type": "code",
   "execution_count": 1,
   "id": "ffeeed9c-1019-471a-bf45-eba4a33b6741",
   "metadata": {},
   "outputs": [
    {
     "data": {
      "text/plain": [
       "<_io.TextIOWrapper name='my_modules.py' mode='w' encoding='UTF-8'>"
      ]
     },
     "execution_count": 1,
     "metadata": {},
     "output_type": "execute_result"
    }
   ],
   "source": [
    "open(\"my_modules.py\",\"w\")"
   ]
  },
  {
   "cell_type": "code",
   "execution_count": 2,
   "id": "10b0e246-0bb0-42ac-a15a-0d3857883418",
   "metadata": {},
   "outputs": [
    {
     "data": {
      "text/plain": [
       "['In',\n",
       " 'NamespaceMagics',\n",
       " 'Out',\n",
       " '_',\n",
       " '_1',\n",
       " '_2',\n",
       " '__',\n",
       " '__K',\n",
       " '___',\n",
       " '__builtin__',\n",
       " '__builtins__',\n",
       " '__doc__',\n",
       " '__import__',\n",
       " '__ipywidgets',\n",
       " '__loader__',\n",
       " '__name__',\n",
       " '__np',\n",
       " '__package__',\n",
       " '__pandas',\n",
       " '__pd',\n",
       " '__pyspark',\n",
       " '__session__',\n",
       " '__spec__',\n",
       " '__tf',\n",
       " '__torch',\n",
       " '__xr',\n",
       " '_attempt_import',\n",
       " '_check_imported',\n",
       " '_dh',\n",
       " '_i',\n",
       " '_i1',\n",
       " '_i2',\n",
       " '_ih',\n",
       " '_ii',\n",
       " '_iii',\n",
       " '_jupyterlab_variableinspector_Jupyter',\n",
       " '_jupyterlab_variableinspector_default',\n",
       " '_jupyterlab_variableinspector_deletevariable',\n",
       " '_jupyterlab_variableinspector_dict_list',\n",
       " '_jupyterlab_variableinspector_displaywidget',\n",
       " '_jupyterlab_variableinspector_getcontentof',\n",
       " '_jupyterlab_variableinspector_getmatrixcontent',\n",
       " '_jupyterlab_variableinspector_getshapeof',\n",
       " '_jupyterlab_variableinspector_getsizeof',\n",
       " '_jupyterlab_variableinspector_is_matrix',\n",
       " '_jupyterlab_variableinspector_is_widget',\n",
       " '_jupyterlab_variableinspector_nms',\n",
       " '_oh',\n",
       " 'dataframe_columns',\n",
       " 'dataframe_hash',\n",
       " 'dtypes_str',\n",
       " 'exit',\n",
       " 'get_dataframes',\n",
       " 'get_ipython',\n",
       " 'getpass',\n",
       " 'hashlib',\n",
       " 'import_pandas_safely',\n",
       " 'is_data_frame',\n",
       " 'json',\n",
       " 'open',\n",
       " 'quit',\n",
       " 'sys']"
      ]
     },
     "execution_count": 2,
     "metadata": {},
     "output_type": "execute_result"
    }
   ],
   "source": [
    "dir(\n",
    "    \n",
    ")"
   ]
  },
  {
   "cell_type": "code",
   "execution_count": 4,
   "id": "3ee149b5-7cec-4a41-8087-1d0e27034fa3",
   "metadata": {},
   "outputs": [
    {
     "name": "stdout",
     "output_type": "stream",
     "text": [
      "ExceptionHandling.ipynb   Prsctice.ipynb  test.log         Untitled.ipynb\n",
      "filesAndGenerators.ipynb  test2           text.txt\n",
      "functions.ipynb           test2.txt       Untitled1.ipynb\n",
      "my_modules.py             test3.log       Untitled2.ipynb\n"
     ]
    }
   ],
   "source": [
    "ls\n"
   ]
  },
  {
   "cell_type": "code",
   "execution_count": 6,
   "id": "170bd311-afe8-4657-94e6-3402b82b98d5",
   "metadata": {},
   "outputs": [],
   "source": [
    "import my_modules"
   ]
  },
  {
   "cell_type": "code",
   "execution_count": 10,
   "id": "454efacd-e7c3-4d8e-aa53-e0ccff382f56",
   "metadata": {},
   "outputs": [
    {
     "data": {
      "text/plain": [
       "'greeting from ineuron'"
      ]
     },
     "execution_count": 10,
     "metadata": {},
     "output_type": "execute_result"
    }
   ],
   "source": [
    "my_modules.get_greeting()"
   ]
  },
  {
   "cell_type": "code",
   "execution_count": null,
   "id": "7f17ab97-a096-4e6a-8da6-de81298088b8",
   "metadata": {},
   "outputs": [],
   "source": []
  }
 ],
 "metadata": {
  "kernelspec": {
   "display_name": "Python [conda env:base] *",
   "language": "python",
   "name": "conda-base-py"
  },
  "language_info": {
   "codemirror_mode": {
    "name": "ipython",
    "version": 3
   },
   "file_extension": ".py",
   "mimetype": "text/x-python",
   "name": "python",
   "nbconvert_exporter": "python",
   "pygments_lexer": "ipython3",
   "version": "3.12.7"
  }
 },
 "nbformat": 4,
 "nbformat_minor": 5
}
