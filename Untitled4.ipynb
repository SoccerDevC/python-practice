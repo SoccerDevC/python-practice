{
 "cells": [
  {
   "cell_type": "code",
   "execution_count": 1,
   "id": "33219a6f-03ac-454a-8e41-92edf1279f6a",
   "metadata": {},
   "outputs": [],
   "source": [
    "#multilevel inheritence\n",
    "class parent:\n",
    "    def __init__(self,name):\n",
    "        self.name=name\n",
    "class child(parent):\n",
    "    def __init__(self,name,age):\n",
    "        self.name=name\n",
    "        self.age=age\n",
    "\n",
    "k = child(\"conrad\", 24)"
   ]
  },
  {
   "cell_type": "code",
   "execution_count": 3,
   "id": "a87eb8e2-efad-4196-930a-b944c69fa931",
   "metadata": {},
   "outputs": [
    {
     "data": {
      "text/plain": [
       "'conrad'"
      ]
     },
     "execution_count": 3,
     "metadata": {},
     "output_type": "execute_result"
    }
   ],
   "source": [
    "k.name"
   ]
  },
  {
   "cell_type": "code",
   "execution_count": 11,
   "id": "e06dc62e-d567-40e0-8706-bad0c6db06a6",
   "metadata": {},
   "outputs": [],
   "source": [
    "#multiple inheritence\n",
    "class school:\n",
    "    def __init__(self,name,level):\n",
    "        self.name=name\n",
    "        self.level=level\n",
    "\n",
    "class student(school,parent):\n",
    "    pass\n",
    "\n",
    "s=student(\"Umssn\",8)"
   ]
  },
  {
   "cell_type": "code",
   "execution_count": 13,
   "id": "414b5f6c-5c74-4be4-87b2-1aa214f4a9c4",
   "metadata": {},
   "outputs": [
    {
     "data": {
      "text/plain": [
       "8"
      ]
     },
     "execution_count": 13,
     "metadata": {},
     "output_type": "execute_result"
    }
   ],
   "source": [
    "s.level"
   ]
  },
  {
   "cell_type": "code",
   "execution_count": 15,
   "id": "e8cb956b-013a-4882-af76-9e8e2acd9187",
   "metadata": {},
   "outputs": [],
   "source": [
    "class tiktok:\n",
    "    def __init__(self):\n",
    "        pass\n",
    "\n",
    "    def post():\n",
    "        print(\"This is tiktok\")\n",
    "\n",
    "class instagram:\n",
    "    def post():\n",
    "        print(\"insta is nice\")\n",
    "\n",
    "def postinga(socilas):\n",
    "    return socilas.post()"
   ]
  },
  {
   "cell_type": "code",
   "execution_count": 17,
   "id": "ff73e0d0-8e8e-4c73-a16e-81ebfd78ff7c",
   "metadata": {},
   "outputs": [],
   "source": [
    "i = instagram"
   ]
  },
  {
   "cell_type": "code",
   "execution_count": 19,
   "id": "bf143f3f-9be5-40ac-aefb-facfe2215b7f",
   "metadata": {},
   "outputs": [
    {
     "name": "stdout",
     "output_type": "stream",
     "text": [
      "insta is nice\n"
     ]
    }
   ],
   "source": [
    "i.post()"
   ]
  },
  {
   "cell_type": "code",
   "execution_count": 21,
   "id": "a76037e8-b362-42fb-b076-129339d2dde8",
   "metadata": {},
   "outputs": [
    {
     "data": {
      "text/plain": [
       "'Own Exception class'"
      ]
     },
     "execution_count": 21,
     "metadata": {},
     "output_type": "execute_result"
    }
   ],
   "source": [
    "\n",
    "\"\"\"Own Exception class\"\"\""
   ]
  },
  {
   "cell_type": "code",
   "execution_count": 23,
   "id": "a4dba85a-2624-41fc-98fb-97683136ee47",
   "metadata": {},
   "outputs": [
    {
     "name": "stdout",
     "output_type": "stream",
     "text": [
      "YOu are actually and truly stupid\n",
      "\n"
     ]
    }
   ],
   "source": [
    "class stupidity(Exception):\n",
    "    def __init__(self):\n",
    "        print(\"YOu are actually and truly stupid\")\n",
    "\n",
    "try:\n",
    "    raise stupidity\n",
    "\n",
    "except stupidity as s:\n",
    "    print(s)\n",
    "    "
   ]
  },
  {
   "cell_type": "code",
   "execution_count": 25,
   "id": "ef25b675-2805-4b1f-9eaa-c206347db14c",
   "metadata": {},
   "outputs": [
    {
     "data": {
      "text/plain": [
       "'Encalpsulation'"
      ]
     },
     "execution_count": 25,
     "metadata": {},
     "output_type": "execute_result"
    }
   ],
   "source": [
    "\"\"\"Encalpsulation\"\"\""
   ]
  },
  {
   "cell_type": "code",
   "execution_count": 53,
   "id": "53b63d33-b6a7-454f-9d80-c4a4f4a65ccd",
   "metadata": {},
   "outputs": [],
   "source": [
    "class encaps:\n",
    "    def __init__(self,a,b,c):\n",
    "        self._a =a\n",
    "        self.__b=b\n",
    "        self.c=c\n",
    "\n",
    "    def profit(self,cost):\n",
    "        return self.c*self\n",
    "\n",
    "class inher(encaps):\n",
    "    def profit(self):\n",
    "        return self.c*self._a\n",
    "\n",
    "def loss():\n",
    "    cost = _encaps.self.__b\n",
    "    return coset * 20"
   ]
  },
  {
   "cell_type": "code",
   "execution_count": 55,
   "id": "d0baf6f0-f161-4a69-81c9-70a0219c09fe",
   "metadata": {},
   "outputs": [],
   "source": [
    "i = inher(1000,100,10)"
   ]
  },
  {
   "cell_type": "code",
   "execution_count": 57,
   "id": "9ad5f80c-25d6-4f74-bdab-177abdf7ce37",
   "metadata": {},
   "outputs": [
    {
     "data": {
      "text/plain": [
       "__main__.inher"
      ]
     },
     "execution_count": 57,
     "metadata": {},
     "output_type": "execute_result"
    }
   ],
   "source": [
    "type(i)"
   ]
  },
  {
   "cell_type": "code",
   "execution_count": 59,
   "id": "a77311c4-9db2-4df8-a8fc-c3446f1eeb20",
   "metadata": {},
   "outputs": [
    {
     "ename": "AttributeError",
     "evalue": "'inher' object has no attribute 'loss'",
     "output_type": "error",
     "traceback": [
      "\u001b[0;31m---------------------------------------------------------------------------\u001b[0m",
      "\u001b[0;31mAttributeError\u001b[0m                            Traceback (most recent call last)",
      "Cell \u001b[0;32mIn[59], line 1\u001b[0m\n\u001b[0;32m----> 1\u001b[0m i\u001b[38;5;241m.\u001b[39mloss()\n",
      "\u001b[0;31mAttributeError\u001b[0m: 'inher' object has no attribute 'loss'"
     ]
    }
   ],
   "source": [
    "i.loss()"
   ]
  },
  {
   "cell_type": "code",
   "execution_count": null,
   "id": "a95cc362-080e-42a9-829b-f383c71ef9b3",
   "metadata": {},
   "outputs": [],
   "source": []
  }
 ],
 "metadata": {
  "kernelspec": {
   "display_name": "Python [conda env:base] *",
   "language": "python",
   "name": "conda-base-py"
  },
  "language_info": {
   "codemirror_mode": {
    "name": "ipython",
    "version": 3
   },
   "file_extension": ".py",
   "mimetype": "text/x-python",
   "name": "python",
   "nbconvert_exporter": "python",
   "pygments_lexer": "ipython3",
   "version": "3.12.7"
  }
 },
 "nbformat": 4,
 "nbformat_minor": 5
}
