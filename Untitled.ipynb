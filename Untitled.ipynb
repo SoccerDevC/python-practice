{
 "cells": [
  {
   "cell_type": "code",
   "execution_count": 1,
   "id": "516a934d-3fe7-4816-b7b8-0639bd76315b",
   "metadata": {},
   "outputs": [
    {
     "data": {
      "text/plain": [
       "uname_result(system='Linux', node='cono', release='6.8.0-51-generic', version='#52-Ubuntu SMP PREEMPT_DYNAMIC Thu Dec  5 13:09:44 UTC 2024', machine='x86_64')"
      ]
     },
     "execution_count": 1,
     "metadata": {},
     "output_type": "execute_result"
    }
   ],
   "source": [
    "import platform as pl\n",
    "pl.uname()"
   ]
  },
  {
   "cell_type": "code",
   "execution_count": 7,
   "id": "e53afc84-4a7f-4eec-8e6b-d72518efb399",
   "metadata": {},
   "outputs": [
    {
     "name": "stdout",
     "output_type": "stream",
     "text": [
      "192.168.1.12 cono\n"
     ]
    }
   ],
   "source": [
    "import socket\n",
    "name = socket.gethostname()\n",
    "IP = socket.gethostbyname(name)\n",
    "print(IP, name)"
   ]
  },
  {
   "cell_type": "code",
   "execution_count": null,
   "id": "92965e2f-2854-4397-a29b-ff5b57a5a281",
   "metadata": {},
   "outputs": [],
   "source": []
  }
 ],
 "metadata": {
  "kernelspec": {
   "display_name": "Python [conda env:base] *",
   "language": "python",
   "name": "conda-base-py"
  },
  "language_info": {
   "codemirror_mode": {
    "name": "ipython",
    "version": 3
   },
   "file_extension": ".py",
   "mimetype": "text/x-python",
   "name": "python",
   "nbconvert_exporter": "python",
   "pygments_lexer": "ipython3",
   "version": "3.12.7"
  }
 },
 "nbformat": 4,
 "nbformat_minor": 5
}
