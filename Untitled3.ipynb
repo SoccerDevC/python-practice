{
 "cells": [
  {
   "cell_type": "code",
   "execution_count": 3,
   "id": "605c795e-2a0a-4b6a-86c7-60733ff97adc",
   "metadata": {},
   "outputs": [],
   "source": [
    "class test:\n",
    "    def __init__(self,a,b,c):\n",
    "        self._a =a\n",
    "        self.__b=b\n",
    "        self.c=c"
   ]
  },
  {
   "cell_type": "code",
   "execution_count": 5,
   "id": "e961d258-560d-4731-b968-415db5da6b9a",
   "metadata": {},
   "outputs": [],
   "source": [
    "v = test(1,3,5)"
   ]
  },
  {
   "cell_type": "code",
   "execution_count": 11,
   "id": "17ea0cfb-fff4-4051-9f4d-9a176740cc1f",
   "metadata": {},
   "outputs": [
    {
     "data": {
      "text/plain": [
       "1"
      ]
     },
     "execution_count": 11,
     "metadata": {},
     "output_type": "execute_result"
    }
   ],
   "source": [
    "v._a"
   ]
  },
  {
   "cell_type": "code",
   "execution_count": 15,
   "id": "8235e702-8fd1-4d61-9520-ab4546702bc4",
   "metadata": {},
   "outputs": [
    {
     "data": {
      "text/plain": [
       "3"
      ]
     },
     "execution_count": 15,
     "metadata": {},
     "output_type": "execute_result"
    }
   ],
   "source": [
    "v._test__b"
   ]
  },
  {
   "cell_type": "code",
   "execution_count": 17,
   "id": "16cbaf5c-42fe-4bc4-9e41-a46551bf5eb5",
   "metadata": {},
   "outputs": [],
   "source": [
    "class test1(test):\n",
    "    pass"
   ]
  },
  {
   "cell_type": "code",
   "execution_count": 19,
   "id": "90610461-fcef-46aa-9732-26f8eab913fd",
   "metadata": {},
   "outputs": [],
   "source": [
    "b=test1(3,7,9\n",
    "       )"
   ]
  },
  {
   "cell_type": "code",
   "execution_count": 23,
   "id": "91638e27-8e88-42db-8352-c90b45b5224c",
   "metadata": {},
   "outputs": [
    {
     "data": {
      "text/plain": [
       "7"
      ]
     },
     "execution_count": 23,
     "metadata": {},
     "output_type": "execute_result"
    }
   ],
   "source": [
    "b._test__b"
   ]
  },
  {
   "cell_type": "code",
   "execution_count": null,
   "id": "a091231d-eaea-4fa7-b717-fe704e590145",
   "metadata": {},
   "outputs": [],
   "source": []
  }
 ],
 "metadata": {
  "kernelspec": {
   "display_name": "Python [conda env:base] *",
   "language": "python",
   "name": "conda-base-py"
  },
  "language_info": {
   "codemirror_mode": {
    "name": "ipython",
    "version": 3
   },
   "file_extension": ".py",
   "mimetype": "text/x-python",
   "name": "python",
   "nbconvert_exporter": "python",
   "pygments_lexer": "ipython3",
   "version": "3.12.7"
  }
 },
 "nbformat": 4,
 "nbformat_minor": 5
}
