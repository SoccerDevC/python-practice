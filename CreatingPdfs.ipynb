{
 "cells": [
  {
   "cell_type": "code",
   "execution_count": null,
   "id": "ff2b595b-771e-43b8-9b88-010034ee2a21",
   "metadata": {},
   "outputs": [],
   "source": [
    "doc2 = fitz.open()\n",
    "pager = doc2.new_page()\n",
    "text = \"Conrad is learning slowly\"\n",
    "position = (50,100)\n",
    "pager.insert_text(position,text,fontsize = 18, fontname = 'helv')\n",
    "doc2.save(\"pdf2.pdf\")\n",
    "doc2.close()"
   ]
  },
  {
   "cell_type": "code",
   "execution_count": null,
   "id": "d2bd0040-014c-4b42-a860-a3dcf8e399df",
   "metadata": {},
   "outputs": [],
   "source": [
    "new_doc = fitz.open()\n",
    "page = new_doc.new_page()\n",
    "text = f\"Hello there how are you\"\n",
    "position=(50,100)\n",
    "page.insert_text(position, text,fontsize = 20, fontname = 'helv' )\n",
    "new_doc.save(\"pdf1.pdf\")\n",
    "new_doc.close()"
   ]
  }
 ],
 "metadata": {
  "kernelspec": {
   "display_name": "Python [conda env:base] *",
   "language": "python",
   "name": "conda-base-py"
  },
  "language_info": {
   "codemirror_mode": {
    "name": "ipython",
    "version": 3
   },
   "file_extension": ".py",
   "mimetype": "text/x-python",
   "name": "python",
   "nbconvert_exporter": "python",
   "pygments_lexer": "ipython3",
   "version": "3.12.7"
  }
 },
 "nbformat": 4,
 "nbformat_minor": 5
}
