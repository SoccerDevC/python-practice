{
 "cells": [
  {
   "cell_type": "code",
   "execution_count": 1,
   "id": "194adeda-582c-40f4-9ace-14ad3a34ff0f",
   "metadata": {},
   "outputs": [],
   "source": [
    "def test(*args):\n",
    "    return args"
   ]
  },
  {
   "cell_type": "code",
   "execution_count": 3,
   "id": "ee9a17dc-4c87-4ed5-a16f-6aa8e2214846",
   "metadata": {},
   "outputs": [
    {
     "data": {
      "text/plain": [
       "(2, 5, 'sfs')"
      ]
     },
     "execution_count": 3,
     "metadata": {},
     "output_type": "execute_result"
    }
   ],
   "source": [
    "test(2,5,\"sfs\")"
   ]
  },
  {
   "cell_type": "code",
   "execution_count": 5,
   "id": "d4c51928-308e-4d61-bf1f-225c26d08435",
   "metadata": {},
   "outputs": [
    {
     "data": {
      "text/plain": [
       "((1, 2, 3, 9), [45, 6, 76])"
      ]
     },
     "execution_count": 5,
     "metadata": {},
     "output_type": "execute_result"
    }
   ],
   "source": [
    "test((1,2,3,9),[45,6,76])"
   ]
  },
  {
   "cell_type": "code",
   "execution_count": 7,
   "id": "3bb25702-bee0-4cce-97b2-2ece77226036",
   "metadata": {},
   "outputs": [],
   "source": [
    "def test1(*args, a):\n",
    "    return args, a"
   ]
  },
  {
   "cell_type": "code",
   "execution_count": 13,
   "id": "f0d1b8d2-23ba-4a06-b29d-441ffabbda21",
   "metadata": {},
   "outputs": [
    {
     "data": {
      "text/plain": [
       "tuple"
      ]
     },
     "execution_count": 13,
     "metadata": {},
     "output_type": "execute_result"
    }
   ],
   "source": [
    "type(test1(12,3,4, a=3))"
   ]
  },
  {
   "cell_type": "code",
   "execution_count": 15,
   "id": "52dd06d0-1bda-4f59-a408-846e6234a144",
   "metadata": {},
   "outputs": [],
   "source": [
    "def test2(*s, a, b, c):\n",
    "    return s,a,b,c"
   ]
  },
  {
   "cell_type": "code",
   "execution_count": 19,
   "id": "e80a0106-6aaf-4c6f-ab4a-1769917cc695",
   "metadata": {},
   "outputs": [
    {
     "data": {
      "text/plain": [
       "((1, 3, 2), 12, 'dsad', [12, 432])"
      ]
     },
     "execution_count": 19,
     "metadata": {},
     "output_type": "execute_result"
    }
   ],
   "source": [
    "test2(1,3,2,a=12,b=\"dsad\",c=[12,432])"
   ]
  },
  {
   "cell_type": "code",
   "execution_count": 21,
   "id": "dc08ae70-c2c6-45a9-86bd-f13b2a02f9e1",
   "metadata": {},
   "outputs": [],
   "source": [
    "def test3(a,b,*sd):\n",
    "    return a,b,sd"
   ]
  },
  {
   "cell_type": "code",
   "execution_count": 23,
   "id": "8778eb1f-fcd2-42b6-9add-3b7101d1a9bd",
   "metadata": {},
   "outputs": [
    {
     "data": {
      "text/plain": [
       "(21, [23, 'this', 5.6], (53, 'fsgf'))"
      ]
     },
     "execution_count": 23,
     "metadata": {},
     "output_type": "execute_result"
    }
   ],
   "source": [
    "test3(21,[23,\"this\",5.6], 53,\"fsgf\")"
   ]
  },
  {
   "cell_type": "code",
   "execution_count": 25,
   "id": "21cfec42-0a19-4252-8730-b47ea756c141",
   "metadata": {},
   "outputs": [],
   "source": [
    "def test4(a, *sudh, b,c):\n",
    "    return a,sudh,b,c"
   ]
  },
  {
   "cell_type": "code",
   "execution_count": 33,
   "id": "c711a94c-71c5-4200-b2a6-9cb7f818ed48",
   "metadata": {},
   "outputs": [
    {
     "data": {
      "text/plain": [
       "(234, ([2, 3, 4], 32323), 5553, 444)"
      ]
     },
     "execution_count": 33,
     "metadata": {},
     "output_type": "execute_result"
    }
   ],
   "source": [
    "test4(234,[2,3,4],32323,c =444,b=5553)"
   ]
  },
  {
   "cell_type": "code",
   "execution_count": 43,
   "id": "4e1423d3-6e4c-47ef-b5fd-a8ea288f93f9",
   "metadata": {},
   "outputs": [],
   "source": [
    "def test5(*args):\n",
    "    for i in args:\n",
    "        if type(i) ==list:\n",
    "            return i\n",
    "        else:\n",
    "            pass"
   ]
  },
  {
   "cell_type": "code",
   "execution_count": 51,
   "id": "41f2d18b-11ac-47a0-8a62-8587b4e1d848",
   "metadata": {},
   "outputs": [
    {
     "data": {
      "text/plain": [
       "[9, 43, 2]"
      ]
     },
     "execution_count": 51,
     "metadata": {},
     "output_type": "execute_result"
    }
   ],
   "source": [
    "test5(23,\"jhhj\",3.8,[9,43,2],[\"fref\",43])"
   ]
  },
  {
   "cell_type": "code",
   "execution_count": 53,
   "id": "3536d44f-6037-4ff3-b1d4-bf77045a5f68",
   "metadata": {},
   "outputs": [],
   "source": [
    "d={\"a\":232, \"b\":\"ytrt\", \"c\":[23,4,5]}"
   ]
  },
  {
   "cell_type": "code",
   "execution_count": 55,
   "id": "f7c7bc30-a125-4d71-a73d-6315491a096f",
   "metadata": {},
   "outputs": [],
   "source": [
    "def test6(**args):\n",
    "    return args"
   ]
  },
  {
   "cell_type": "code",
   "execution_count": 63,
   "id": "9bc87900-a809-4f0a-8037-def275ce4b1f",
   "metadata": {},
   "outputs": [
    {
     "data": {
      "text/plain": [
       "dict"
      ]
     },
     "execution_count": 63,
     "metadata": {},
     "output_type": "execute_result"
    }
   ],
   "source": [
    "type(test6(a=43, b = \"ryrt\"))"
   ]
  },
  {
   "cell_type": "code",
   "execution_count": 65,
   "id": "3c613ec9-e3ee-43eb-b8d1-fffa6c979ee6",
   "metadata": {},
   "outputs": [
    {
     "data": {
      "text/plain": [
       "{'name': 'Conrad', 'age': 23, 'address': 'buddo'}"
      ]
     },
     "execution_count": 65,
     "metadata": {},
     "output_type": "execute_result"
    }
   ],
   "source": [
    "test6(name=\"Conrad\", age= 23, address=\"buddo\")"
   ]
  },
  {
   "cell_type": "code",
   "execution_count": 67,
   "id": "b7cd1640-1243-4215-9ea7-a0c961c26266",
   "metadata": {},
   "outputs": [],
   "source": [
    "def test7(a, **args):\n",
    "    return a, args"
   ]
  },
  {
   "cell_type": "code",
   "execution_count": 69,
   "id": "7c450bc5-0f6b-4570-a9fe-94b3947acb12",
   "metadata": {},
   "outputs": [
    {
     "ename": "SyntaxError",
     "evalue": "arguments cannot follow var-keyword argument (3152108827.py, line 1)",
     "output_type": "error",
     "traceback": [
      "\u001b[0;36m  Cell \u001b[0;32mIn[69], line 1\u001b[0;36m\u001b[0m\n\u001b[0;31m    def test8(a,**Args, *ud):\u001b[0m\n\u001b[0m                        ^\u001b[0m\n\u001b[0;31mSyntaxError\u001b[0m\u001b[0;31m:\u001b[0m arguments cannot follow var-keyword argument\n"
     ]
    }
   ],
   "source": [
    "def test8(a,**Args, *ud):\n",
    "    return a, Args, ud"
   ]
  },
  {
   "cell_type": "code",
   "execution_count": 71,
   "id": "58c868ac-db3d-44c8-9ca8-c659d120db04",
   "metadata": {},
   "outputs": [],
   "source": [
    "def test9(a, *args, **Is):\n",
    "    return a, Is. args"
   ]
  },
  {
   "cell_type": "code",
   "execution_count": 99,
   "id": "be2bdc8e-1239-4857-8b88-56b391a7d991",
   "metadata": {},
   "outputs": [],
   "source": [
    "c = lambda *a :a"
   ]
  },
  {
   "cell_type": "code",
   "execution_count": 101,
   "id": "2108ae82-4731-4087-be8c-e3ac66c2d98d",
   "metadata": {},
   "outputs": [
    {
     "data": {
      "text/plain": [
       "(4, 2, 8)"
      ]
     },
     "execution_count": 101,
     "metadata": {},
     "output_type": "execute_result"
    }
   ],
   "source": [
    "c(4,2,8)"
   ]
  },
  {
   "cell_type": "code",
   "execution_count": 113,
   "id": "606265eb-4193-4183-a1f0-17600cb07427",
   "metadata": {},
   "outputs": [],
   "source": [
    "x = lambda a:[print(i) for i in a]"
   ]
  },
  {
   "cell_type": "code",
   "execution_count": 115,
   "id": "9ea373ed-6607-4198-92b1-b0511e58a42e",
   "metadata": {},
   "outputs": [
    {
     "name": "stdout",
     "output_type": "stream",
     "text": [
      "32\n",
      "44\n"
     ]
    },
    {
     "data": {
      "text/plain": [
       "[None, None]"
      ]
     },
     "execution_count": 115,
     "metadata": {},
     "output_type": "execute_result"
    }
   ],
   "source": [
    "x([32,44\n",
    "  ])"
   ]
  },
  {
   "cell_type": "code",
   "execution_count": 125,
   "id": "05e2c453-31a6-471b-8680-802c17fdb944",
   "metadata": {},
   "outputs": [
    {
     "data": {
      "text/plain": [
       "[34, 0, 0]"
      ]
     },
     "execution_count": 125,
     "metadata": {},
     "output_type": "execute_result"
    }
   ],
   "source": [
    "[x if type(x)==int else 0 for x in [34,\"gdg\", 7.8]]"
   ]
  },
  {
   "cell_type": "code",
   "execution_count": 127,
   "id": "7131e09b-5baa-437d-8762-4a504ed80cca",
   "metadata": {},
   "outputs": [],
   "source": [
    "x = lambda c: [a for a in c]"
   ]
  },
  {
   "cell_type": "code",
   "execution_count": 129,
   "id": "7bd58f5a-728b-487a-9dd2-eb3701b63c90",
   "metadata": {},
   "outputs": [
    {
     "data": {
      "text/plain": [
       "[67, 890, 'opi']"
      ]
     },
     "execution_count": 129,
     "metadata": {},
     "output_type": "execute_result"
    }
   ],
   "source": [
    "x((67,890,\"opi\"))"
   ]
  },
  {
   "cell_type": "code",
   "execution_count": 133,
   "id": "ef54940b-35e2-4cbb-a238-3ceb037229a2",
   "metadata": {},
   "outputs": [],
   "source": [
    "def h(c,b=1):\n",
    "\n",
    "    return c*b"
   ]
  },
  {
   "cell_type": "code",
   "execution_count": 135,
   "id": "2cc374a2-e15a-4036-b5f4-b133948431f6",
   "metadata": {},
   "outputs": [
    {
     "data": {
      "text/plain": [
       "50"
      ]
     },
     "execution_count": 135,
     "metadata": {},
     "output_type": "execute_result"
    }
   ],
   "source": [
    "h(5,10)"
   ]
  },
  {
   "cell_type": "code",
   "execution_count": 141,
   "id": "29d2e417-b29c-4fb5-ad1a-3637ee2313c4",
   "metadata": {},
   "outputs": [],
   "source": [
    "l=[12,4,6,8,3,9,8,0]\n",
    "g = lambda p:[i+2 for i in p]\n"
   ]
  },
  {
   "cell_type": "code",
   "execution_count": 145,
   "id": "77513c32-09e9-4465-bbb9-af24047a096a",
   "metadata": {},
   "outputs": [
    {
     "data": {
      "text/plain": [
       "[14, 6, 8, 10, 5, 11, 10, 2]"
      ]
     },
     "execution_count": 145,
     "metadata": {},
     "output_type": "execute_result"
    }
   ],
   "source": [
    "g(l)"
   ]
  },
  {
   "cell_type": "code",
   "execution_count": 147,
   "id": "9d6890fc-177e-4208-8d93-574c614077e5",
   "metadata": {},
   "outputs": [
    {
     "data": {
      "text/plain": [
       "[(144, 14), (16, 6), (36, 8), (64, 10), (9, 5), (81, 11), (64, 10), (0, 2)]"
      ]
     },
     "execution_count": 147,
     "metadata": {},
     "output_type": "execute_result"
    }
   ],
   "source": [
    "[(i**2,i+2) for i in l]"
   ]
  },
  {
   "cell_type": "code",
   "execution_count": 149,
   "id": "5b009459-66ef-45dc-b154-3ce6d86af8da",
   "metadata": {},
   "outputs": [
    {
     "data": {
      "text/plain": [
       "[12, 4, 6, 8, 3, 9, 8, 0]"
      ]
     },
     "execution_count": 149,
     "metadata": {},
     "output_type": "execute_result"
    }
   ],
   "source": [
    "l"
   ]
  },
  {
   "cell_type": "code",
   "execution_count": 155,
   "id": "55629c8d-6046-4889-9e77-9a816599eff8",
   "metadata": {},
   "outputs": [],
   "source": [
    "o = []\n",
    "for i in l:\n",
    "    if i < 4:\n",
    "        o.append((i**2,i+2))\n",
    "\n",
    "\n",
    "        \n",
    "        "
   ]
  },
  {
   "cell_type": "code",
   "execution_count": 157,
   "id": "f151aaea-74fd-4031-ba03-9b5fdf6c3503",
   "metadata": {},
   "outputs": [
    {
     "data": {
      "text/plain": [
       "[(9, 5), (0, 2)]"
      ]
     },
     "execution_count": 157,
     "metadata": {},
     "output_type": "execute_result"
    }
   ],
   "source": [
    "o"
   ]
  },
  {
   "cell_type": "code",
   "execution_count": 159,
   "id": "e7fdc701-6b2a-4e6d-b81c-9732c8246c50",
   "metadata": {},
   "outputs": [],
   "source": [
    "d = {1:1,2:4,3:9}"
   ]
  },
  {
   "cell_type": "code",
   "execution_count": 161,
   "id": "f26829c1-7f4e-4c77-822f-f6a3934565cb",
   "metadata": {},
   "outputs": [
    {
     "data": {
      "text/plain": [
       "{0: 0, 1: 1, 2: 4, 3: 9, 4: 16, 5: 25, 6: 36, 7: 49, 8: 64, 9: 81}"
      ]
     },
     "execution_count": 161,
     "metadata": {},
     "output_type": "execute_result"
    }
   ],
   "source": [
    "{i:i**2 for i in range(10)}"
   ]
  },
  {
   "cell_type": "code",
   "execution_count": 169,
   "id": "ce708774-9b92-4523-8c49-e65f0bc269ab",
   "metadata": {},
   "outputs": [],
   "source": [
    "d1={}\n",
    "for i in range(10):\n",
    "    d1[i]=i**2\n",
    "\n"
   ]
  },
  {
   "cell_type": "code",
   "execution_count": 171,
   "id": "b0eb0517-8b21-4544-b48d-d6e31235c27a",
   "metadata": {},
   "outputs": [
    {
     "data": {
      "text/plain": [
       "{0: 0, 1: 1, 2: 4, 3: 9, 4: 16, 5: 25, 6: 36, 7: 49, 8: 64, 9: 81}"
      ]
     },
     "execution_count": 171,
     "metadata": {},
     "output_type": "execute_result"
    }
   ],
   "source": [
    "d1"
   ]
  },
  {
   "cell_type": "code",
   "execution_count": 173,
   "id": "cadec30c-0cbc-4ac2-99a9-f77754c7fe39",
   "metadata": {},
   "outputs": [
    {
     "ename": "TypeError",
     "evalue": "'int' object is not iterable",
     "output_type": "error",
     "traceback": [
      "\u001b[0;31m---------------------------------------------------------------------------\u001b[0m",
      "\u001b[0;31mTypeError\u001b[0m                                 Traceback (most recent call last)",
      "Cell \u001b[0;32mIn[173], line 2\u001b[0m\n\u001b[1;32m      1\u001b[0m a \u001b[38;5;241m=\u001b[39m \u001b[38;5;241m56\u001b[39m\n\u001b[0;32m----> 2\u001b[0m \u001b[38;5;28;01mfor\u001b[39;00m i \u001b[38;5;129;01min\u001b[39;00m a:\n\u001b[1;32m      3\u001b[0m     \u001b[38;5;28mprint\u001b[39m(i)\n",
      "\u001b[0;31mTypeError\u001b[0m: 'int' object is not iterable"
     ]
    }
   ],
   "source": [
    "a = 56\n",
    "for i in a:\n",
    "    print(i)"
   ]
  },
  {
   "cell_type": "code",
   "execution_count": 175,
   "id": "8b31039d-344d-47ae-aca9-1a6a2a201d76",
   "metadata": {},
   "outputs": [
    {
     "name": "stdout",
     "output_type": "stream",
     "text": [
      "c\n",
      "o\n",
      "n\n",
      "r\n",
      "a\n",
      "d\n"
     ]
    }
   ],
   "source": [
    "s = \"conrad\"\n",
    "for i in s:\n",
    "    print(i)"
   ]
  },
  {
   "cell_type": "code",
   "execution_count": 177,
   "id": "1d63ed01-adf0-4867-b3b9-b2fdec5810dd",
   "metadata": {},
   "outputs": [
    {
     "ename": "TypeError",
     "evalue": "'str' object is not an iterator",
     "output_type": "error",
     "traceback": [
      "\u001b[0;31m---------------------------------------------------------------------------\u001b[0m",
      "\u001b[0;31mTypeError\u001b[0m                                 Traceback (most recent call last)",
      "Cell \u001b[0;32mIn[177], line 1\u001b[0m\n\u001b[0;32m----> 1\u001b[0m \u001b[38;5;28mnext\u001b[39m(s)\n",
      "\u001b[0;31mTypeError\u001b[0m: 'str' object is not an iterator"
     ]
    }
   ],
   "source": [
    "next(s)"
   ]
  },
  {
   "cell_type": "code",
   "execution_count": 183,
   "id": "ee5e75bf-d31d-4c6d-97d0-cd552788259f",
   "metadata": {},
   "outputs": [
    {
     "ename": "TypeError",
     "evalue": "'list' object is not an iterator",
     "output_type": "error",
     "traceback": [
      "\u001b[0;31m---------------------------------------------------------------------------\u001b[0m",
      "\u001b[0;31mTypeError\u001b[0m                                 Traceback (most recent call last)",
      "Cell \u001b[0;32mIn[183], line 1\u001b[0m\n\u001b[0;32m----> 1\u001b[0m \u001b[38;5;28mnext\u001b[39m(l)\n",
      "\u001b[0;31mTypeError\u001b[0m: 'list' object is not an iterator"
     ]
    }
   ],
   "source": [
    "next(l)"
   ]
  },
  {
   "cell_type": "code",
   "execution_count": 185,
   "id": "2efc1e79-b4bb-495a-ab70-a1abfa06a362",
   "metadata": {},
   "outputs": [],
   "source": [
    "b = iter(s)"
   ]
  },
  {
   "cell_type": "code",
   "execution_count": null,
   "id": "bf316e61-0083-4b67-a3b7-ba20a3fde909",
   "metadata": {},
   "outputs": [],
   "source": []
  }
 ],
 "metadata": {
  "kernelspec": {
   "display_name": "Python [conda env:base] *",
   "language": "python",
   "name": "conda-base-py"
  },
  "language_info": {
   "codemirror_mode": {
    "name": "ipython",
    "version": 3
   },
   "file_extension": ".py",
   "mimetype": "text/x-python",
   "name": "python",
   "nbconvert_exporter": "python",
   "pygments_lexer": "ipython3",
   "version": "3.12.7"
  }
 },
 "nbformat": 4,
 "nbformat_minor": 5
}
