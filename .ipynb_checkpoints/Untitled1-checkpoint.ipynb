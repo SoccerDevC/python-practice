{
 "cells": [
  {
   "cell_type": "code",
   "execution_count": 2,
   "id": "f6de21b0-92f7-4994-9bf3-01ce0fec3dcd",
   "metadata": {},
   "outputs": [],
   "source": [
    "import logging"
   ]
  },
  {
   "cell_type": "code",
   "execution_count": 3,
   "id": "0d155c11-c38e-467c-8e6f-30e6a7a9d90b",
   "metadata": {},
   "outputs": [],
   "source": [
    "logging.basicConfig(filename = \"test3.log\", level = logging.DEBUG, format='%(asctime)s %(message)s')"
   ]
  },
  {
   "cell_type": "code",
   "execution_count": 6,
   "id": "6f0fdd6d-68b4-446a-a89e-4ba52f46a6af",
   "metadata": {},
   "outputs": [],
   "source": [
    "logging.info(\"This is info\")\n",
    "logging.debug(\"debugger\")\n",
    "logging.warning(\"warncovming\")"
   ]
  },
  {
   "cell_type": "code",
   "execution_count": 2,
   "id": "77d54cc4-6e4e-4d31-a5cf-8f5d7e41ca02",
   "metadata": {},
   "outputs": [],
   "source": [
    "import logging"
   ]
  },
  {
   "cell_type": "code",
   "execution_count": 3,
   "id": "531b287c-827f-4c4d-a4db-89afffba88dc",
   "metadata": {},
   "outputs": [],
   "source": [
    "logging.basicConfig(filename = \"test3.log\", level = logging.DEBUG, format = '%(asctime)s %(messages)s')"
   ]
  },
  {
   "cell_type": "code",
   "execution_count": 6,
   "id": "485afd37-49a3-4545-9c56-e3bc7a4d13ab",
   "metadata": {},
   "outputs": [],
   "source": [
    "def divbyzero(a,b):\n",
    "    logging.info(\"this is the start and am entering %s and %a\",a , b)\n",
    "    try:\n",
    "        div = a/b\n",
    "        logging.info(\"Executed successfully\")\n",
    "\n",
    "    except Exception as e:\n",
    "        logging.error(\"Error has happened\")\n",
    "        logging.exception(\"Exception has occured\"+ str(e))"
   ]
  },
  {
   "cell_type": "code",
   "execution_count": 8,
   "id": "e4c9d757-3761-425e-a8fb-3ccc09597d2f",
   "metadata": {},
   "outputs": [],
   "source": [
    "divbyzero(4,5)"
   ]
  },
  {
   "cell_type": "code",
   "execution_count": 10,
   "id": "5fca370a-2ae8-48f4-8afc-d2122305f94d",
   "metadata": {},
   "outputs": [],
   "source": [
    "divbyzero(3,0)"
   ]
  },
  {
   "cell_type": "code",
   "execution_count": null,
   "id": "43177e14-d650-443d-a2f7-0c78de3a6327",
   "metadata": {},
   "outputs": [],
   "source": []
  }
 ],
 "metadata": {
  "kernelspec": {
   "display_name": "Python [conda env:base] *",
   "language": "python",
   "name": "conda-base-py"
  },
  "language_info": {
   "codemirror_mode": {
    "name": "ipython",
    "version": 3
   },
   "file_extension": ".py",
   "mimetype": "text/x-python",
   "name": "python",
   "nbconvert_exporter": "python",
   "pygments_lexer": "ipython3",
   "version": "3.12.7"
  }
 },
 "nbformat": 4,
 "nbformat_minor": 5
}
