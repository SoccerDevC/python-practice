{
 "cells": [
  {
   "cell_type": "code",
   "execution_count": 48,
   "id": "dc1f291d-f80d-44c6-900a-8b514fff4788",
   "metadata": {},
   "outputs": [],
   "source": [
    "import glob\n",
    "import logging\n",
    "import fitz #PyMuPDF"
   ]
  },
  {
   "cell_type": "code",
   "execution_count": 50,
   "id": "e903eaaa-2091-4339-a539-bf293e0bfc68",
   "metadata": {},
   "outputs": [],
   "source": [
    "logging.basicConfig(filename = \"PdfCombinner.log\", level = logging.DEBUG, format = ('%(message)s %(asctime)s %(levelname)s'))"
   ]
  },
  {
   "cell_type": "code",
   "execution_count": 135,
   "id": "13ddf067-2e39-4b6e-82e6-5562208593ba",
   "metadata": {},
   "outputs": [],
   "source": [
    "import tkinter as tk\n"
   ]
  },
  {
   "cell_type": "code",
   "execution_count": 137,
   "id": "99dac0d2-2918-4575-94c3-1a17a9a65e65",
   "metadata": {},
   "outputs": [
    {
     "data": {
      "text/plain": [
       "''"
      ]
     },
     "execution_count": 137,
     "metadata": {},
     "output_type": "execute_result"
    }
   ],
   "source": [
    "#Create the amin window\n",
    "root = tk.Tk()\n",
    "root.title(\"Simple Tkinter GUI\")\n",
    "root.geometry(\"400x300\")"
   ]
  },
  {
   "cell_type": "code",
   "execution_count": 139,
   "id": "9f0a3fd9-eb1e-491f-bea9-e65d4919d6dd",
   "metadata": {},
   "outputs": [],
   "source": [
    "#Add a label\n",
    "label = tk.Label(root, text=\"Hello World!\", font = (\"Helv\", 18))\n",
    "label.pack(pady=20)"
   ]
  },
  {
   "cell_type": "code",
   "execution_count": 141,
   "id": "8eede152-33c0-4e55-8004-701e9a1e02f6",
   "metadata": {},
   "outputs": [],
   "source": [
    "#Add a button\n",
    "def on_button_click():\n",
    "    label.config(text=\"Button Cicked!\")\n",
    "\n",
    "button = tk.Button(root, text = \"Click Me\", command = on_button_click)\n",
    "button.pack(pady=20)\n"
   ]
  },
  {
   "cell_type": "code",
   "execution_count": 143,
   "id": "8f8547fb-b9bb-4eba-a8ce-84785887b09e",
   "metadata": {},
   "outputs": [],
   "source": [
    "#Start the gui\n",
    "root.mainloop()"
   ]
  },
  {
   "cell_type": "code",
   "execution_count": 201,
   "id": "0dc7668f-0dba-492f-a6c5-6b0f79547ad8",
   "metadata": {},
   "outputs": [],
   "source": [
    "import tkinter as tk\n",
    "from tkinter import filedialog"
   ]
  },
  {
   "cell_type": "code",
   "execution_count": 203,
   "id": "85e3ef8a-47ea-4bb5-ae98-b6dceaf16d9d",
   "metadata": {},
   "outputs": [],
   "source": [
    "def open_file():\n",
    "    try:\n",
    "        directory =\".\"\n",
    "    \n",
    "        # if type(directory)==int:\n",
    "        #     raise Exception(\"You have entered an integer\")\n",
    "            \n",
    "        pdf_files = glob.glob(f\"{directory}/*.pdf\")\n",
    "        logging.info(\"files have been inserted\")\n",
    "        logging.info(pdf_files)\n",
    "    except Exception as e:\n",
    "        logging.info(\"files not found\")\n",
    "\n",
    "    combinedPdf = fitz.open()\n",
    "    try:\n",
    "        for pdf in pdf_files:\n",
    "            pdf_document = fitz.open(pdf)\n",
    "            combinedPdf.insert_pdf(pdf_document)\n",
    "            pdf_document.close()\n",
    "            logging.info(\"Successfully inserted pdfs\")\n",
    "\n",
    "    except Exception as e:\n",
    "        logging.error(\"You have encountered the following error \", e)\n",
    "        logging.debug(\"Combining pdfs is unsuccessful\")\n",
    "\n",
    "    logging.info(\"saving combined pdf\")\n",
    "    combinedPdf.save(\"combined.pdf\")\n",
    "    combinedPdf.close()\n",
    "    label.config(text=pdf_files)\n",
    "    # pdf_files = glob.glob(\"*.pdf\")"
   ]
  },
  {
   "cell_type": "code",
   "execution_count": 205,
   "id": "d6722d72-af0e-4243-b803-2bd90ef8731b",
   "metadata": {},
   "outputs": [
    {
     "data": {
      "text/plain": [
       "''"
      ]
     },
     "execution_count": 205,
     "metadata": {},
     "output_type": "execute_result"
    }
   ],
   "source": [
    "#Create the main window\n",
    "root = tk.Tk()\n",
    "root.title(\"File Picker\")\n",
    "root.geometry(\"500x400\")"
   ]
  },
  {
   "cell_type": "code",
   "execution_count": 207,
   "id": "25a43d65-4a72-4c6c-8164-cc5dfbbbf8d2",
   "metadata": {},
   "outputs": [],
   "source": [
    "label = tk.Label(root, text=\"Select a file\", font=(\"Helvetica\",20))\n",
    "label.pack(pady=20)\n"
   ]
  },
  {
   "cell_type": "code",
   "execution_count": 209,
   "id": "1f39fe27-410b-4303-b190-60ec55236d31",
   "metadata": {},
   "outputs": [],
   "source": [
    "button = tk.Button(root,text=\"Open file\", command= open_file)\n",
    "button.pack(pady=20)"
   ]
  },
  {
   "cell_type": "code",
   "execution_count": null,
   "id": "dd9be98e-e7c2-4d3a-8505-29285c16cb0c",
   "metadata": {},
   "outputs": [],
   "source": [
    "root.mainloop()"
   ]
  },
  {
   "cell_type": "code",
   "execution_count": null,
   "id": "35719331-d242-4140-a574-28f2ada95d4d",
   "metadata": {},
   "outputs": [],
   "source": []
  }
 ],
 "metadata": {
  "kernelspec": {
   "display_name": "Python [conda env:base] *",
   "language": "python",
   "name": "conda-base-py"
  },
  "language_info": {
   "codemirror_mode": {
    "name": "ipython",
    "version": 3
   },
   "file_extension": ".py",
   "mimetype": "text/x-python",
   "name": "python",
   "nbconvert_exporter": "python",
   "pygments_lexer": "ipython3",
   "version": "3.12.7"
  }
 },
 "nbformat": 4,
 "nbformat_minor": 5
}
