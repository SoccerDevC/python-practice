{
 "cells": [
  {
   "cell_type": "code",
   "execution_count": 58,
   "id": "ae8093b2-da6e-4344-aed1-381cca879cc8",
   "metadata": {},
   "outputs": [],
   "source": [
    "import logging\n",
    "\n",
    "logging.basicConfig(filename=\"multi.log\", level = logging.DEBUG, format= '%(asctime)s %(message)s' , filemode=\"w\")\n",
    "class accessFile:\n",
    "    def __init__(self, file):\n",
    "        logging.info(\"creating class\")\n",
    "        self.file=file\n",
    "\n",
    "    def read(self):\n",
    "        try:\n",
    "            with open(f\"{self.file}.txt\", \"r\") as f\n",
    "                logging.info(\"Opening file\")\n",
    "                content = f.read()\n",
    "                f.close()\n",
    "                logging.info(\"File closed\")\n",
    "                return content\n",
    "        except Exception as e:\n",
    "            logging.error(f\"An error has been encountered {e}\")\n",
    "        \n",
    "        \n",
    "    def write(self,text):\n",
    "        logging.info(\"Write function\")\n",
    "        try:\n",
    "            with open(f\"{self.file}.txt\",\"w\") as d\n",
    "                logging.info(\"Opening file\")\n",
    "                d.write(text)\n",
    "                logging.info(\"written to file\")\n",
    "                write_file.close()\n",
    "        except Exception as e:\n",
    "            logging.error(\"An error has occured \",e)"
   ]
  },
  {
   "cell_type": "code",
   "execution_count": 60,
   "id": "a71de11b-df6c-4e74-9f89-2f6a85ffe024",
   "metadata": {},
   "outputs": [],
   "source": [
    "f=accessFile(\"abc\")"
   ]
  },
  {
   "cell_type": "code",
   "execution_count": 62,
   "id": "eba2307e-9163-49ff-907d-8c25af73b253",
   "metadata": {},
   "outputs": [],
   "source": [
    "f.write(\"fwefewfwefef\")"
   ]
  },
  {
   "cell_type": "code",
   "execution_count": 64,
   "id": "e2b43e91-cc2b-4934-a986-b9d06b928922",
   "metadata": {},
   "outputs": [
    {
     "data": {
      "text/plain": [
       "'fwefewfwefef'"
      ]
     },
     "execution_count": 64,
     "metadata": {},
     "output_type": "execute_result"
    }
   ],
   "source": [
    "f.read()"
   ]
  },
  {
   "cell_type": "code",
   "execution_count": null,
   "id": "1ba43e36-2577-4fe3-bf43-15016f372063",
   "metadata": {},
   "outputs": [],
   "source": []
  }
 ],
 "metadata": {
  "kernelspec": {
   "display_name": "Python [conda env:base] *",
   "language": "python",
   "name": "conda-base-py"
  },
  "language_info": {
   "codemirror_mode": {
    "name": "ipython",
    "version": 3
   },
   "file_extension": ".py",
   "mimetype": "text/x-python",
   "name": "python",
   "nbconvert_exporter": "python",
   "pygments_lexer": "ipython3",
   "version": "3.12.7"
  }
 },
 "nbformat": 4,
 "nbformat_minor": 5
}
