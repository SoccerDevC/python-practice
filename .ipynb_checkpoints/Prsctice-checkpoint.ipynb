{
 "cells": [
  {
   "cell_type": "code",
   "execution_count": 1,
   "id": "be5e59e4-2b64-40f3-a9f8-3697a78ec59a",
   "metadata": {},
   "outputs": [],
   "source": [
    "a = 10\n"
   ]
  },
  {
   "cell_type": "code",
   "execution_count": 5,
   "id": "3fdda09e-e639-4ad2-8275-34c097b28f0b",
   "metadata": {},
   "outputs": [],
   "source": [
    "if a < 15:\n",
    "    pass"
   ]
  },
  {
   "cell_type": "code",
   "execution_count": 7,
   "id": "ab34a373-70fa-459d-8841-f383239d4886",
   "metadata": {},
   "outputs": [
    {
     "name": "stdout",
     "output_type": "stream",
     "text": [
      "Hahahah\n"
     ]
    }
   ],
   "source": [
    "if 10 < 3 :\n",
    "    print(\"It is impossible\")\n",
    "else :\n",
    "    print(\"Hahahah\")"
   ]
  },
  {
   "cell_type": "code",
   "execution_count": 20,
   "id": "52232410-cfe3-4417-8569-b7901f24dd3c",
   "metadata": {},
   "outputs": [
    {
     "name": "stdin",
     "output_type": "stream",
     "text": [
      " 120\n"
     ]
    },
    {
     "name": "stdout",
     "output_type": "stream",
     "text": [
      "I wont be able to buy anything\n"
     ]
    }
   ],
   "source": [
    "income = int(input())\n",
    "if income < 50:\n",
    "    print(\"I will be able to buy a phone\")\n",
    "\n",
    "elif income < 70: \n",
    "    print(\"I will be able to get a car\")    \n",
    "\n",
    "elif income < 90:\n",
    "    print(\"I will be able to rent a house\")\n",
    "\n",
    "else :\n",
    "    print(\"I wont be able to buy anything\")\n",
    "\n"
   ]
  },
  {
   "cell_type": "code",
   "execution_count": 30,
   "id": "b4c4d098-b84a-4163-a02e-94e7cacd95c2",
   "metadata": {},
   "outputs": [
    {
     "name": "stdin",
     "output_type": "stream",
     "text": [
      " 25000\n"
     ]
    },
    {
     "name": "stdout",
     "output_type": "stream",
     "text": [
      "Your discount will be 5000.0\n"
     ]
    }
   ],
   "source": [
    "Total_price = int(input())\n",
    "if Total_price > 20000:\n",
    "    discount = Total_price * .2\n",
    "    print(\"Your discount will be\" ,discount)\n",
    "\n",
    "elif Total_price <= 7000:\n",
    "    discount = Total_price * .05\n",
    "    print(\"Your discount will be \" , discount)\n",
    "\n",
    "else :\n",
    "    print(\"Wont be able to give any discount\")"
   ]
  },
  {
   "cell_type": "code",
   "execution_count": 32,
   "id": "75ccfccf-0dd7-47e5-bce1-8b9f303a153a",
   "metadata": {},
   "outputs": [
    {
     "data": {
      "text/plain": [
       "True"
      ]
     },
     "execution_count": 32,
     "metadata": {},
     "output_type": "execute_result"
    }
   ],
   "source": [
    "\"sudh\" == \"sudh\""
   ]
  },
  {
   "cell_type": "code",
   "execution_count": 36,
   "id": "b029554a-2e83-4abc-987f-a754bf67a320",
   "metadata": {},
   "outputs": [
    {
     "name": "stdin",
     "output_type": "stream",
     "text": [
      " 21ssa\n"
     ]
    },
    {
     "name": "stdout",
     "output_type": "stream",
     "text": [
      "Kindly use a valid coupon\n"
     ]
    }
   ],
   "source": [
    "coup = \"Conoto5\"\n",
    "if coup == input():\n",
    "    print(\"You will be able to get a discount of 5%\")\n",
    "    paid_amount = 7080 - 7080*.05\n",
    "    print(\"You will be able to get one neuron with this amount\" ,paid_amount)\n",
    "\n",
    "else :\n",
    "    print(\"Kindly use a valid coupon\")"
   ]
  },
  {
   "cell_type": "code",
   "execution_count": 40,
   "id": "6a3f7956-b2ae-400e-b4bc-bf67805b378f",
   "metadata": {},
   "outputs": [
    {
     "name": "stdin",
     "output_type": "stream",
     "text": [
      " 3\n"
     ]
    },
    {
     "name": "stdout",
     "output_type": "stream",
     "text": [
      "It may take 6 months to make transi\n"
     ]
    }
   ],
   "source": [
    "study_hour = int(input())\n",
    "if study_hour < 1:\n",
    "    print(\"It will take 8 to 9 month to make transit \")\n",
    "\n",
    "elif study_hour <4 and study_hour >1:\n",
    "    print(\"It may take 6 months to make transi\")\n",
    "\n",
    "elif study_hour >4:\n",
    "    print(\"It may take 3 month of time to make a transit\")\n",
    "\n",
    "else:\n",
    "    print(\"It will be difficult\")"
   ]
  },
  {
   "cell_type": "code",
   "execution_count": 42,
   "id": "0b3df3d8-a567-4b80-a927-56b8dfa4c211",
   "metadata": {},
   "outputs": [
    {
     "name": "stdout",
     "output_type": "stream",
     "text": [
      "1\n",
      "2\n",
      "3\n",
      "4\n",
      "5\n",
      "6\n"
     ]
    }
   ],
   "source": [
    "l = [1,2,3,4,5,6]\n",
    "for i in l:\n",
    "    print(i)"
   ]
  },
  {
   "cell_type": "code",
   "execution_count": 44,
   "id": "6c057c4c-ba55-411b-a54c-f0c779626cc3",
   "metadata": {},
   "outputs": [
    {
     "name": "stdout",
     "output_type": "stream",
     "text": [
      "s\n",
      "u\n",
      "d\n",
      "h\n"
     ]
    }
   ],
   "source": [
    "s = \"sudh\"\n",
    "for i in s:\n",
    "    print(i)"
   ]
  },
  {
   "cell_type": "code",
   "execution_count": 46,
   "id": "0004a521-456a-4331-a270-ec893aeacee7",
   "metadata": {},
   "outputs": [
    {
     "data": {
      "text/plain": [
       "'u'"
      ]
     },
     "execution_count": 46,
     "metadata": {},
     "output_type": "execute_result"
    }
   ],
   "source": [
    "s[1]"
   ]
  },
  {
   "cell_type": "code",
   "execution_count": 50,
   "id": "53be16da-7a4d-4997-be6b-32705026a983",
   "metadata": {},
   "outputs": [
    {
     "name": "stdout",
     "output_type": "stream",
     "text": [
      "Your datatype is <class 'int'>\n",
      "Your datatype is <class 'float'>\n",
      "Your datatype is <class 'complex'>\n",
      "Your datatype is <class 'bool'>\n"
     ]
    }
   ],
   "source": [
    "l = [1,2.3,3+4j,True]\n",
    "for i in l:\n",
    "    its_type=type(i)\n",
    "    print(\"Your datatype is\" ,its_type)"
   ]
  },
  {
   "cell_type": "code",
   "execution_count": 54,
   "id": "8b226e6d-415f-4152-96b9-eefbb361bf67",
   "metadata": {},
   "outputs": [
    {
     "data": {
      "text/plain": [
       "[3, 4, 5, 6]"
      ]
     },
     "execution_count": 54,
     "metadata": {},
     "output_type": "execute_result"
    }
   ],
   "source": [
    "l = [1,2,3,4]\n",
    "l1 = []\n",
    "\n",
    "for i in l:\n",
    "    l1.append(i+2)\n",
    "\n",
    "l1"
   ]
  },
  {
   "cell_type": "code",
   "execution_count": 58,
   "id": "ab9056bb-2e41-4fe7-bfd7-d14b31286507",
   "metadata": {},
   "outputs": [],
   "source": [
    "l = [1,2.3,4,5,2+5j,\"sfrrr\",[12,43]]\n",
    "li = []\n",
    "for i in l:\n",
    "    if type(i)==int:\n",
    "        li.append(i)\n",
    "        "
   ]
  },
  {
   "cell_type": "code",
   "execution_count": 60,
   "id": "ad6d403e-5327-474b-b4a5-d991d42358a7",
   "metadata": {},
   "outputs": [
    {
     "data": {
      "text/plain": [
       "[1, 4, 5]"
      ]
     },
     "execution_count": 60,
     "metadata": {},
     "output_type": "execute_result"
    }
   ],
   "source": [
    "li"
   ]
  },
  {
   "cell_type": "code",
   "execution_count": 62,
   "id": "0d19c5b5-1779-41e5-aac1-fb31d637f252",
   "metadata": {},
   "outputs": [
    {
     "data": {
      "text/plain": [
       "[1, 2.3, 4, 5, (2+5j), 'sfrrr', [12, 43]]"
      ]
     },
     "execution_count": 62,
     "metadata": {},
     "output_type": "execute_result"
    }
   ],
   "source": [
    "l\n",
    "\n"
   ]
  },
  {
   "cell_type": "code",
   "execution_count": 64,
   "id": "8c5aa45f-d5ea-4b8f-a9a3-d9a0742b796d",
   "metadata": {},
   "outputs": [
    {
     "ename": "AttributeError",
     "evalue": "'int' object has no attribute 'index'",
     "output_type": "error",
     "traceback": [
      "\u001b[0;31m---------------------------------------------------------------------------\u001b[0m",
      "\u001b[0;31mAttributeError\u001b[0m                            Traceback (most recent call last)",
      "Cell \u001b[0;32mIn[64], line 2\u001b[0m\n\u001b[1;32m      1\u001b[0m \u001b[38;5;28;01mfor\u001b[39;00m i \u001b[38;5;129;01min\u001b[39;00m l:\n\u001b[0;32m----> 2\u001b[0m     \u001b[38;5;28mprint\u001b[39m(i\u001b[38;5;241m.\u001b[39mindex())\n",
      "\u001b[0;31mAttributeError\u001b[0m: 'int' object has no attribute 'index'"
     ]
    }
   ],
   "source": [
    "for i in l:\n",
    "    print(i.index())"
   ]
  },
  {
   "cell_type": "code",
   "execution_count": 80,
   "id": "32706f48-62fb-4e72-a594-af76001e196e",
   "metadata": {},
   "outputs": [
    {
     "name": "stdout",
     "output_type": "stream",
     "text": [
      "0\n",
      "1\n",
      "2\n",
      "3\n",
      "4\n",
      "5\n",
      "6\n",
      "7\n",
      "8\n"
     ]
    }
   ],
   "source": [
    "l = [1,1,1, 2.3, 4, 5, (2+5j), 'sfrrr', [12, 43]]\n",
    "for i in range(len(l)):\n",
    "    print(i)\n",
    "    "
   ]
  },
  {
   "cell_type": "code",
   "execution_count": 74,
   "id": "f4d12919-d4a7-4f75-a21d-a939b7fc9f12",
   "metadata": {},
   "outputs": [
    {
     "name": "stdout",
     "output_type": "stream",
     "text": [
      "s\n",
      "f\n",
      "r\n",
      "r\n",
      "r\n"
     ]
    }
   ],
   "source": [
    "for i in l:\n",
    "    if type(i) == str:\n",
    "        for j in i:\n",
    "            print(j)"
   ]
  },
  {
   "cell_type": "code",
   "execution_count": 76,
   "id": "99ec5b65-939a-4282-b249-f0176be944ab",
   "metadata": {},
   "outputs": [
    {
     "data": {
      "text/plain": [
       "[1, 16, 25]"
      ]
     },
     "execution_count": 76,
     "metadata": {},
     "output_type": "execute_result"
    }
   ],
   "source": [
    "ints = []\n",
    "for i in l:\n",
    "    if type(i) == int:\n",
    "        ints.append(i*i)\n",
    "\n",
    "ints"
   ]
  },
  {
   "cell_type": "code",
   "execution_count": 5,
   "id": "71cdbd68-39cd-4cc1-bd76-8e37e0c4d956",
   "metadata": {},
   "outputs": [],
   "source": [
    "l = [1, 2.3, 4, 5, (2+5j), 'sfrrr', [12, 43]]\n"
   ]
  },
  {
   "cell_type": "code",
   "execution_count": 9,
   "id": "7bbe30f6-4f8b-496e-9bcd-789d427da983",
   "metadata": {},
   "outputs": [
    {
     "name": "stdout",
     "output_type": "stream",
     "text": [
      "(0, 1)\n",
      "(1, 2.3)\n",
      "(2, 4)\n",
      "(3, 5)\n",
      "(4, (2+5j))\n",
      "(5, 'sfrrr')\n",
      "(6, [12, 43])\n"
     ]
    }
   ],
   "source": [
    "for i in enumerate(l):\n",
    "    print(i)"
   ]
  },
  {
   "cell_type": "code",
   "execution_count": 19,
   "id": "af9ba9b5-bf83-4b22-a298-ec911e173591",
   "metadata": {},
   "outputs": [
    {
     "name": "stdout",
     "output_type": "stream",
     "text": [
      "1\n",
      "2.3\n"
     ]
    }
   ],
   "source": [
    "for i in l:\n",
    "    if i == 4:\n",
    "        break\n",
    "\n",
    "    print(i)\n",
    "\n",
    "else :\n",
    "    print(\"Complete\")"
   ]
  },
  {
   "cell_type": "code",
   "execution_count": 6,
   "id": "5dc43761-c6a8-4956-bf7a-903646262b40",
   "metadata": {},
   "outputs": [
    {
     "data": {
      "text/plain": [
       "[0, 1, 2, 3, 4, 5]"
      ]
     },
     "execution_count": 6,
     "metadata": {},
     "output_type": "execute_result"
    }
   ],
   "source": [
    "list(range(6))\n"
   ]
  },
  {
   "cell_type": "code",
   "execution_count": 4,
   "id": "610ada7d-21d7-48f6-9ef5-df38a575558d",
   "metadata": {},
   "outputs": [
    {
     "name": "stdout",
     "output_type": "stream",
     "text": [
      "*\n",
      "**\n",
      "***\n",
      "****\n"
     ]
    }
   ],
   "source": [
    "a = 1\n",
    "while a <5:\n",
    "    print(\"*\" * a)\n",
    "    a = a+1"
   ]
  },
  {
   "cell_type": "code",
   "execution_count": 8,
   "id": "ed9310b7-e804-4f68-8b83-b33499982f3d",
   "metadata": {},
   "outputs": [
    {
     "data": {
      "text/plain": [
       "[2, 7, 12, 17, 22, 27, 32, 37, 42, 47, 52, 57, 62, 67, 72, 77, 82, 87, 92, 97]"
      ]
     },
     "execution_count": 8,
     "metadata": {},
     "output_type": "execute_result"
    }
   ],
   "source": [
    "list(range(2, 100, 5))"
   ]
  },
  {
   "cell_type": "code",
   "execution_count": 10,
   "id": "9f5f7309-fcab-49c9-930b-0781c9f244ba",
   "metadata": {},
   "outputs": [
    {
     "data": {
      "text/plain": [
       "[]"
      ]
     },
     "execution_count": 10,
     "metadata": {},
     "output_type": "execute_result"
    }
   ],
   "source": [
    "list(range(3,10,-1))"
   ]
  },
  {
   "cell_type": "code",
   "execution_count": 12,
   "id": "7d4eeee9-b884-44b9-a725-827d88e73843",
   "metadata": {},
   "outputs": [
    {
     "data": {
      "text/plain": [
       "[10, 9, 8, 7]"
      ]
     },
     "execution_count": 12,
     "metadata": {},
     "output_type": "execute_result"
    }
   ],
   "source": [
    "list(range(10, 6, -1))"
   ]
  },
  {
   "cell_type": "code",
   "execution_count": 14,
   "id": "d57c40ee-20ee-46a6-9a7c-3690af468644",
   "metadata": {},
   "outputs": [
    {
     "data": {
      "text/plain": [
       "[10, 9, 8, 7, 6, 5, 4, 3, 2, 1, 0, -1, -2, -3, -4]"
      ]
     },
     "execution_count": 14,
     "metadata": {},
     "output_type": "execute_result"
    }
   ],
   "source": [
    "list(range(10, -5, -1))"
   ]
  },
  {
   "cell_type": "code",
   "execution_count": 18,
   "id": "64dcd743-8e13-4110-b5f1-74a0da0a58ba",
   "metadata": {},
   "outputs": [
    {
     "name": "stdout",
     "output_type": "stream",
     "text": [
      "10\n",
      "8\n",
      "6\n",
      "4\n",
      "2\n",
      "0\n",
      "-2\n",
      "-4\n"
     ]
    }
   ],
   "source": [
    "for i in range(10, -5, -2):\n",
    "    print(i)"
   ]
  },
  {
   "cell_type": "code",
   "execution_count": 47,
   "id": "6c87472c-5d6f-40f3-bbb7-2d0a60555c22",
   "metadata": {},
   "outputs": [
    {
     "name": "stdout",
     "output_type": "stream",
     "text": [
      "*\n",
      "**\n",
      "***\n",
      "****\n",
      "*****\n"
     ]
    }
   ],
   "source": [
    "n = 5\n",
    "for i in range(0, n):\n",
    "    for j in range(0,i+1):\n",
    "        print(\"*\", end = \"\")\n",
    "    print(\"\\r\")"
   ]
  },
  {
   "cell_type": "code",
   "execution_count": 51,
   "id": "4290bac8-c68a-4a95-a58d-f457fe624adc",
   "metadata": {},
   "outputs": [
    {
     "name": "stdout",
     "output_type": "stream",
     "text": [
      "0 1\n",
      "1 2\n",
      "2 3\n",
      "3 4\n",
      "4 5\n",
      "5 6\n",
      "6 7\n"
     ]
    }
   ],
   "source": [
    "t = (1,2,3,4,5,6,7)\n",
    "for i in range(len(t)):\n",
    "    print(i, t[i])\n"
   ]
  },
  {
   "cell_type": "code",
   "execution_count": 53,
   "id": "5dadebc9-11ea-4c7e-9292-0cdc06b7b164",
   "metadata": {},
   "outputs": [
    {
     "data": {
      "text/plain": [
       "(7, 6, 5, 4, 3, 2, 1)"
      ]
     },
     "execution_count": 53,
     "metadata": {},
     "output_type": "execute_result"
    }
   ],
   "source": [
    "t[::-1]"
   ]
  },
  {
   "cell_type": "code",
   "execution_count": 71,
   "id": "2cea763c-21f2-4ef0-b8ee-1fa6aaf22ca5",
   "metadata": {},
   "outputs": [
    {
     "ename": "SyntaxError",
     "evalue": "invalid syntax (3919057098.py, line 1)",
     "output_type": "error",
     "traceback": [
      "\u001b[0;36m  Cell \u001b[0;32mIn[71], line 1\u001b[0;36m\u001b[0m\n\u001b[0;31m    for i in range(len(t)-1, , -1):\u001b[0m\n\u001b[0m                             ^\u001b[0m\n\u001b[0;31mSyntaxError\u001b[0m\u001b[0;31m:\u001b[0m invalid syntax\n"
     ]
    }
   ],
   "source": [
    "for i in range(len(t)-1, , -1):\n",
    "    print(t[i])"
   ]
  },
  {
   "cell_type": "code",
   "execution_count": 77,
   "id": "42f6a450-f05f-4484-bcd2-796d0a6d695f",
   "metadata": {},
   "outputs": [
    {
     "name": "stdout",
     "output_type": "stream",
     "text": [
      "a Cono\n",
      "b 1234\n",
      "c (2+2j)\n",
      "d [2, 3, 4, 55, 4, 3]\n"
     ]
    }
   ],
   "source": [
    "d = {\"a\":\"Cono\", \"b\":1234, \"c\":2j+2, \"d\":[2,3,4,55,4,3]}\n",
    "for i in d:\n",
    "    print(i, d[i])"
   ]
  },
  {
   "cell_type": "code",
   "execution_count": 2,
   "id": "a43891f2-5299-423e-b879-c3427d4fcacd",
   "metadata": {},
   "outputs": [
    {
     "name": "stdout",
     "output_type": "stream",
     "text": [
      "o\n",
      "d\n",
      "a\n",
      "r\n",
      "n\n",
      "o\n",
      "C\n",
      " \n",
      "s\n",
      "i\n",
      " \n",
      "s\n",
      "i\n",
      "h\n",
      "T\n"
     ]
    }
   ],
   "source": [
    "s = \"This is Conrado\"\n",
    "for i in range(len(s)-1, -1, -1):\n",
    "    print(s[i])"
   ]
  },
  {
   "cell_type": "code",
   "execution_count": 8,
   "id": "a2cad4b2-f297-41d0-9c95-c6c7997f3580",
   "metadata": {},
   "outputs": [
    {
     "name": "stdout",
     "output_type": "stream",
     "text": [
      "odarnoC si sihT"
     ]
    }
   ],
   "source": [
    "i = len(s)-1\n",
    "while(i>=0):\n",
    "    print(s[i], end=\"\")\n",
    "    i-=1"
   ]
  },
  {
   "cell_type": "code",
   "execution_count": 18,
   "id": "d01aea2b-d4c9-4e97-a3fc-b326e0150d77",
   "metadata": {},
   "outputs": [
    {
     "name": "stdout",
     "output_type": "stream",
     "text": [
      "i  is a vowel\n",
      "This is not a vowel:  n\n",
      "e  is a vowel\n",
      "u  is a vowel\n",
      "This is not a vowel:  r\n",
      "o  is a vowel\n",
      "This is not a vowel:  n\n"
     ]
    }
   ],
   "source": [
    "s = \"ineuron\"\n",
    "v = \"AaEeIiOoUu\" \n",
    "for i in s:\n",
    "    if i in v:\n",
    "        print(i, \" is a vowel\")\n",
    "\n",
    "    else:\n",
    "        print(\"This is not a vowel: \", i)\n",
    "      "
   ]
  },
  {
   "cell_type": "code",
   "execution_count": 20,
   "id": "71dc33a3-5225-47a4-9c0a-e4af8888270a",
   "metadata": {},
   "outputs": [
    {
     "data": {
      "text/plain": [
       "True"
      ]
     },
     "execution_count": 20,
     "metadata": {},
     "output_type": "execute_result"
    }
   ],
   "source": [
    "\"s\" in \"sudh\""
   ]
  },
  {
   "cell_type": "code",
   "execution_count": 26,
   "id": "d35fad0c-3604-4a6c-b82a-1a02ff5ffdc3",
   "metadata": {},
   "outputs": [
    {
     "name": "stdout",
     "output_type": "stream",
     "text": [
      "Not a pelendrome\n",
      "It is a pelendrome\n"
     ]
    }
   ],
   "source": [
    "e = \"eye\"\n",
    "j = 1\n",
    "for i in range(len(e)):\n",
    "    if e[i] == e[-j]:\n",
    "        continue\n",
    "    else:\n",
    "        print(\"Not a pelendrome\")\n",
    "\n",
    "    j-1\n",
    "else:\n",
    "    print(\"It is a pelendrome\")"
   ]
  },
  {
   "cell_type": "code",
   "execution_count": 34,
   "id": "67c9ce53-857d-4e10-b717-0d0389698d43",
   "metadata": {},
   "outputs": [
    {
     "name": "stdin",
     "output_type": "stream",
     "text": [
      " eye\n"
     ]
    },
    {
     "name": "stdout",
     "output_type": "stream",
     "text": [
      "It is a pellindrome\n"
     ]
    }
   ],
   "source": [
    "e = input()\n",
    "for i in range(len(e)):\n",
    "    if e[i] != e[len(e)-1-i]:\n",
    "        print(\"It is not a pelindrom\")\n",
    "        break\n",
    "\n",
    "else:\n",
    "    print(\"It is a pellindrome\")"
   ]
  },
  {
   "cell_type": "code",
   "execution_count": 54,
   "id": "d3a65523-1cca-457e-b7d1-bfd41f39cb53",
   "metadata": {},
   "outputs": [],
   "source": [
    "d = {\"india\" : \"IN\",\n",
    "    \"canada\" : \"CN\",\n",
    "    \"China\" : \"CH\",\n",
    "     \"United states\" : \"US\"\n",
    "    }"
   ]
  },
  {
   "cell_type": "code",
   "execution_count": 38,
   "id": "5f75f1a4-0ff9-4aaa-8754-3c4e8004bd47",
   "metadata": {},
   "outputs": [
    {
     "data": {
      "text/plain": [
       "True"
      ]
     },
     "execution_count": 38,
     "metadata": {},
     "output_type": "execute_result"
    }
   ],
   "source": [
    "\"india\" in d"
   ]
  },
  {
   "cell_type": "code",
   "execution_count": 40,
   "id": "a84302ac-f077-431f-9f47-99e5c9bd01d7",
   "metadata": {},
   "outputs": [
    {
     "data": {
      "text/plain": [
       "dict_items([('india', 'IN'), ('canada', 'CN'), ('China', 'CH'), ('USA', 'US')])"
      ]
     },
     "execution_count": 40,
     "metadata": {},
     "output_type": "execute_result"
    }
   ],
   "source": [
    "d.items()"
   ]
  },
  {
   "cell_type": "code",
   "execution_count": 58,
   "id": "4e13db3e-048d-4081-9107-969ca175b757",
   "metadata": {},
   "outputs": [
    {
     "name": "stdout",
     "output_type": "stream",
     "text": [
      "The following have len greater than 5 ['canada', 'United states'] these are less ['india', 'China']\n"
     ]
    }
   ],
   "source": [
    "less = []\n",
    "great = []\n",
    "for i in d:\n",
    "    if len(i) <= 5:\n",
    "        less.append(i)\n",
    "\n",
    "    elif len(i) > 5:\n",
    "        great.append(i)\n",
    "\n",
    "print(\"The following have len greater than 5\", great, \"these are less\", less)\n",
    "\n"
   ]
  },
  {
   "cell_type": "code",
   "execution_count": 76,
   "id": "e678cbec-c71b-4021-be19-203cdc8b018e",
   "metadata": {},
   "outputs": [],
   "source": [
    "d_1 = {\"ineuron\" : {\n",
    "    \"a\" : 14,\n",
    "    \"b\" :10,\n",
    "    \"c\" : 4\n",
    "},\n",
    "    \"course\" :{\n",
    "        \"d\": 45,\n",
    "        \"e\" : 77,\n",
    "        \"f\": 1\n",
    "    }}"
   ]
  },
  {
   "cell_type": "code",
   "execution_count": 66,
   "id": "b244284b-4252-4c3d-9c39-d49549d28167",
   "metadata": {},
   "outputs": [
    {
     "data": {
      "text/plain": [
       "dict_values([{'a': 14, 'b': 10, 'c': 4}, {'d': 45, 'e': 34, 'f': 1}])"
      ]
     },
     "execution_count": 66,
     "metadata": {},
     "output_type": "execute_result"
    }
   ],
   "source": [
    "d_1.values()"
   ]
  },
  {
   "cell_type": "code",
   "execution_count": 72,
   "id": "8be2f16f-df1f-43d2-bd2b-d1085fb0b9ea",
   "metadata": {},
   "outputs": [
    {
     "name": "stdout",
     "output_type": "stream",
     "text": [
      "Max 1 14\n",
      "Max 1 77\n"
     ]
    }
   ],
   "source": [
    "di = d_1.values()\n",
    "max = 0\n",
    "for i in di:\n",
    "    for j in i.values():\n",
    "        if j > max:\n",
    "            max = j\n",
    "\n",
    "    print(\"Max 1\", max)\n",
    "    max = 0 \n",
    "\n",
    "    \n",
    "        "
   ]
  },
  {
   "cell_type": "code",
   "execution_count": 78,
   "id": "dc7e2d7e-0fe9-408a-93b9-5b24a5713d82",
   "metadata": {},
   "outputs": [],
   "source": [
    "d_1 = {\"ineuron\" : {\n",
    "    \"a\" : 14,\n",
    "    \"b\" :10,\n",
    "    \"c\" : 4\n",
    "},\n",
    "    \"course\" :{\n",
    "        \"d\": 45,\n",
    "        \"e\" : 77,\n",
    "        \"f\": 1\n",
    "    }, \"g\" : 34 , \"h\" : [12,3,121,233], \"i\" : (2,4,5,6,7), \"k\": \"THi si a string\"}"
   ]
  },
  {
   "cell_type": "code",
   "execution_count": 94,
   "id": "4d8e2cd3-6779-4416-9181-64b1eb245e9b",
   "metadata": {},
   "outputs": [
    {
     "data": {
      "text/plain": [
       "dict_values([{'a': 14, 'b': 10, 'c': 4}, {'d': 45, 'e': 77, 'f': 1}, 34, [12, 3, 121, 233], (2, 4, 5, 6, 7), 'THi si a string'])"
      ]
     },
     "execution_count": 94,
     "metadata": {},
     "output_type": "execute_result"
    }
   ],
   "source": [
    "dictv = d_1.values()\n",
    "dictv"
   ]
  },
  {
   "cell_type": "code",
   "execution_count": 108,
   "id": "27445d3d-2cb7-4f3c-babe-5d2f0846ce64",
   "metadata": {},
   "outputs": [
    {
     "name": "stdout",
     "output_type": "stream",
     "text": [
      "{'a': 14, 'b': 10, 'c': 4}\n",
      "{'d': 45, 'e': 77, 'f': 1}\n",
      "34\n",
      "This is the max in the list 233\n",
      "This is the max in the tuple 7\n",
      "This is a string\n"
     ]
    }
   ],
   "source": [
    "\n",
    "for i in d_1.values():\n",
    "    max = 0\n",
    "    if type(i) == dict:\n",
    "        print(i)\n",
    "    elif type(i) == int:\n",
    "        print(i)\n",
    "    elif type(i) == list:\n",
    "        for j in i:\n",
    "            if j > max:\n",
    "                max = j\n",
    "        print(\"This is the max in the list\", max)\n",
    "    elif type(i) == tuple:\n",
    "        for j in i:\n",
    "            if j > max:\n",
    "                max = j\n",
    "        print(\"This is the max in the tuple\", max)\n",
    "    elif type(i) == str:\n",
    "        print(\"This is a string\")"
   ]
  },
  {
   "cell_type": "code",
   "execution_count": 117,
   "id": "0b15e7d2-aa31-484b-89d1-a9680bb2f0c0",
   "metadata": {},
   "outputs": [
    {
     "name": "stdout",
     "output_type": "stream",
     "text": [
      "4\n"
     ]
    }
   ],
   "source": [
    "del max\n",
    "l =[1,2,4]\n",
    "print(max(l))"
   ]
  },
  {
   "cell_type": "code",
   "execution_count": 119,
   "id": "9b6d709b-28d3-46b9-ab24-968b425d0db8",
   "metadata": {},
   "outputs": [
    {
     "data": {
      "text/plain": [
       "4"
      ]
     },
     "execution_count": 119,
     "metadata": {},
     "output_type": "execute_result"
    }
   ],
   "source": [
    "t = (1,2,3,4)\n",
    "max(t)"
   ]
  },
  {
   "cell_type": "code",
   "execution_count": 121,
   "id": "798061ac-ee92-4336-9bbe-8d866b1d8a70",
   "metadata": {},
   "outputs": [
    {
     "data": {
      "text/plain": [
       "233"
      ]
     },
     "execution_count": 121,
     "metadata": {},
     "output_type": "execute_result"
    }
   ],
   "source": [
    "setr = {2,233,1,5}\n",
    "max(setr)"
   ]
  },
  {
   "cell_type": "code",
   "execution_count": 2,
   "id": "4fef54bb-3371-4196-a5e1-f90478ecda3b",
   "metadata": {},
   "outputs": [],
   "source": [
    "def test():\n",
    "    print(\"This is my function\")\n",
    "\n"
   ]
  },
  {
   "cell_type": "code",
   "execution_count": 4,
   "id": "b942498c-42d2-4856-a81a-f13589189acb",
   "metadata": {},
   "outputs": [],
   "source": [
    "def test1():\n",
    "    pass"
   ]
  },
  {
   "cell_type": "code",
   "execution_count": 6,
   "id": "f5cb4bc6-eac3-4dca-a742-221d8a46470e",
   "metadata": {},
   "outputs": [
    {
     "name": "stdout",
     "output_type": "stream",
     "text": [
      "This is my function\n"
     ]
    }
   ],
   "source": [
    "test()"
   ]
  },
  {
   "cell_type": "code",
   "execution_count": 8,
   "id": "369991c0-f747-47c7-85f0-213ca8725c3d",
   "metadata": {},
   "outputs": [
    {
     "name": "stdout",
     "output_type": "stream",
     "text": [
      "This is my function\n"
     ]
    },
    {
     "data": {
      "text/plain": [
       "NoneType"
      ]
     },
     "execution_count": 8,
     "metadata": {},
     "output_type": "execute_result"
    }
   ],
   "source": [
    "type(test())"
   ]
  },
  {
   "cell_type": "code",
   "execution_count": 10,
   "id": "20c9dc62-f457-4bcb-acac-cbc028061992",
   "metadata": {},
   "outputs": [],
   "source": [
    "def namev():\n",
    "    return \"Thiss is my first function\""
   ]
  },
  {
   "cell_type": "code",
   "execution_count": 12,
   "id": "67d8411f-7005-455b-85d0-a8b2ed85b553",
   "metadata": {},
   "outputs": [
    {
     "data": {
      "text/plain": [
       "str"
      ]
     },
     "execution_count": 12,
     "metadata": {},
     "output_type": "execute_result"
    }
   ],
   "source": [
    "type(namev())"
   ]
  },
  {
   "cell_type": "code",
   "execution_count": 14,
   "id": "fcdb4e9d-539d-4857-a749-0f2a519f4385",
   "metadata": {},
   "outputs": [
    {
     "data": {
      "text/plain": [
       "'Thiss is my first functionsygd'"
      ]
     },
     "execution_count": 14,
     "metadata": {},
     "output_type": "execute_result"
    }
   ],
   "source": [
    "namev() + \"sygd\""
   ]
  },
  {
   "cell_type": "code",
   "execution_count": 16,
   "id": "2a5e735c-5fb6-4731-a5f4-768cb3024603",
   "metadata": {},
   "outputs": [],
   "source": [
    "def test3():\n",
    "    return 3242"
   ]
  },
  {
   "cell_type": "code",
   "execution_count": 18,
   "id": "108983f8-598c-4633-afb5-53fc1eaa50f5",
   "metadata": {},
   "outputs": [
    {
     "data": {
      "text/plain": [
       "int"
      ]
     },
     "execution_count": 18,
     "metadata": {},
     "output_type": "execute_result"
    }
   ],
   "source": [
    "type(test3())"
   ]
  },
  {
   "cell_type": "code",
   "execution_count": 20,
   "id": "59430a3a-776f-4424-a1fd-9f4b03887f42",
   "metadata": {},
   "outputs": [
    {
     "data": {
      "text/plain": [
       "3242"
      ]
     },
     "execution_count": 20,
     "metadata": {},
     "output_type": "execute_result"
    }
   ],
   "source": [
    "test3()"
   ]
  },
  {
   "cell_type": "code",
   "execution_count": 28,
   "id": "3e053e66-d243-4347-ad5e-2b5db6fa3862",
   "metadata": {},
   "outputs": [],
   "source": [
    "def test4():\n",
    "    return 3,4,\"sudh\""
   ]
  },
  {
   "cell_type": "code",
   "execution_count": 30,
   "id": "6a46a9cd-6864-4c2b-bc6e-e274343fbf39",
   "metadata": {},
   "outputs": [
    {
     "data": {
      "text/plain": [
       "(3, 4, 'sudh')"
      ]
     },
     "execution_count": 30,
     "metadata": {},
     "output_type": "execute_result"
    }
   ],
   "source": [
    "test4()"
   ]
  },
  {
   "cell_type": "code",
   "execution_count": 32,
   "id": "466c1264-1dc8-4d8a-aa71-b5e336ae1905",
   "metadata": {},
   "outputs": [],
   "source": [
    "b=test4()"
   ]
  },
  {
   "cell_type": "code",
   "execution_count": 34,
   "id": "ed7875f7-9ffa-4410-a210-8c91b28bcb47",
   "metadata": {},
   "outputs": [
    {
     "data": {
      "text/plain": [
       "'sudh'"
      ]
     },
     "execution_count": 34,
     "metadata": {},
     "output_type": "execute_result"
    }
   ],
   "source": [
    "b[2]"
   ]
  },
  {
   "cell_type": "code",
   "execution_count": 36,
   "id": "12be84cf-cb05-4301-8feb-f5c3602a9d65",
   "metadata": {},
   "outputs": [
    {
     "data": {
      "text/plain": [
       "('sudh', 4, 3)"
      ]
     },
     "execution_count": 36,
     "metadata": {},
     "output_type": "execute_result"
    }
   ],
   "source": [
    "b[::-1]"
   ]
  },
  {
   "cell_type": "code",
   "execution_count": 44,
   "id": "ea8f8e8a-868b-428a-b6f0-2498811d0821",
   "metadata": {},
   "outputs": [],
   "source": [
    "x,c,v = b"
   ]
  },
  {
   "cell_type": "code",
   "execution_count": 40,
   "id": "7700a6de-f619-407c-a54c-c5cc9c31b911",
   "metadata": {},
   "outputs": [
    {
     "data": {
      "text/plain": [
       "'sudh'"
      ]
     },
     "execution_count": 40,
     "metadata": {},
     "output_type": "execute_result"
    }
   ],
   "source": [
    "v\n"
   ]
  },
  {
   "cell_type": "code",
   "execution_count": 46,
   "id": "995287fb-0410-469a-9a21-acd88926f767",
   "metadata": {},
   "outputs": [],
   "source": [
    "def test5():\n",
    "    a=6*7 /5\n",
    "    return a"
   ]
  },
  {
   "cell_type": "code",
   "execution_count": 48,
   "id": "5c170abe-5527-44a2-946d-99b94bfd6e2b",
   "metadata": {},
   "outputs": [
    {
     "data": {
      "text/plain": [
       "8.4"
      ]
     },
     "execution_count": 48,
     "metadata": {},
     "output_type": "execute_result"
    }
   ],
   "source": [
    "test5()"
   ]
  },
  {
   "cell_type": "code",
   "execution_count": 50,
   "id": "6ecee275-84d6-47a2-8b0c-13c5f8cd37e9",
   "metadata": {},
   "outputs": [],
   "source": [
    "l = [2,3,4,5,6,\"sitrder\",[12,343]]"
   ]
  },
  {
   "cell_type": "code",
   "execution_count": 62,
   "id": "91d1bb2f-1242-4874-858c-bac602511253",
   "metadata": {},
   "outputs": [],
   "source": [
    "def test6(a):\n",
    "    n = []\n",
    "    if type(a)==list:\n",
    "        for i in a:\n",
    "            if type(i)==int:\n",
    "                n.append(i)\n",
    "    return n\n",
    "\n"
   ]
  },
  {
   "cell_type": "code",
   "execution_count": 64,
   "id": "2ea4eaae-9d11-41aa-b428-be9164d1abde",
   "metadata": {},
   "outputs": [
    {
     "data": {
      "text/plain": [
       "[2, 3, 4, 5, 6]"
      ]
     },
     "execution_count": 64,
     "metadata": {},
     "output_type": "execute_result"
    }
   ],
   "source": [
    "test6(l)"
   ]
  },
  {
   "cell_type": "code",
   "execution_count": 66,
   "id": "80481f35-a8c6-4f2b-9621-1ffe2a092f44",
   "metadata": {},
   "outputs": [],
   "source": [
    "l.extend(l)"
   ]
  },
  {
   "cell_type": "code",
   "execution_count": 68,
   "id": "29e802f0-ae7f-4d0a-952e-ade9a8bcd494",
   "metadata": {},
   "outputs": [
    {
     "data": {
      "text/plain": [
       "[2, 3, 4, 5, 6, 'sitrder', [12, 343], 2, 3, 4, 5, 6, 'sitrder', [12, 343]]"
      ]
     },
     "execution_count": 68,
     "metadata": {},
     "output_type": "execute_result"
    }
   ],
   "source": [
    "l"
   ]
  },
  {
   "cell_type": "code",
   "execution_count": 72,
   "id": "abf42aa1-f89c-41d9-892e-e60efa0a8423",
   "metadata": {},
   "outputs": [
    {
     "data": {
      "text/plain": [
       "[1, 3, 2]"
      ]
     },
     "execution_count": 72,
     "metadata": {},
     "output_type": "execute_result"
    }
   ],
   "source": [
    "test6([1,3,2,(2,3,1,3),2.3,\"dyuw\"])"
   ]
  },
  {
   "cell_type": "code",
   "execution_count": null,
   "id": "a784829b-a735-4a5f-ae7e-095cbb53c8c1",
   "metadata": {},
   "outputs": [],
   "source": [
    "def keygen(b):\n",
    "    l = []\n",
    "    if type(b)==dict:\n",
    "        b.keys"
   ]
  },
  {
   "cell_type": "code",
   "execution_count": 74,
   "id": "9dd3b82c-cd2f-44dd-a8ea-9c50371916f6",
   "metadata": {},
   "outputs": [],
   "source": [
    "d = {\"cd\":2,\"de\":3}"
   ]
  },
  {
   "cell_type": "code",
   "execution_count": 76,
   "id": "be2c9022-31d9-4901-bdcc-268d7ca473fe",
   "metadata": {},
   "outputs": [
    {
     "data": {
      "text/plain": [
       "dict"
      ]
     },
     "execution_count": 76,
     "metadata": {},
     "output_type": "execute_result"
    }
   ],
   "source": [
    "type(d)"
   ]
  },
  {
   "cell_type": "code",
   "execution_count": 82,
   "id": "0287921f-d978-456f-9065-a23345bd73af",
   "metadata": {},
   "outputs": [
    {
     "data": {
      "text/plain": [
       "dict_keys(['cd', 'de'])"
      ]
     },
     "execution_count": 82,
     "metadata": {},
     "output_type": "execute_result"
    }
   ],
   "source": [
    "(d.keys())"
   ]
  },
  {
   "cell_type": "code",
   "execution_count": 106,
   "id": "7af05a30-25a6-4adc-b8c3-2d3e8ff42554",
   "metadata": {},
   "outputs": [],
   "source": [
    "def test10(a):\n",
    "    \"\"\"This is a function that will help you create a triangle with those number of rows\"\"\"\n",
    "    for i in range(a+1):\n",
    "            for j in range(i):\n",
    "                print(\"*\", end =\"\")\n",
    "        \n",
    "            print(\"\\r\")"
   ]
  },
  {
   "cell_type": "markdown",
   "id": "91c33771-2f30-4151-b2dd-8ad4a44600b0",
   "metadata": {},
   "source": [
    "# test10(3)"
   ]
  },
  {
   "cell_type": "code",
   "execution_count": 108,
   "id": "edac220f-d39c-49a2-85c2-8b4b77b5b2aa",
   "metadata": {},
   "outputs": [
    {
     "name": "stdout",
     "output_type": "stream",
     "text": [
      "Help on function test10 in module __main__:\n",
      "\n",
      "test10(a)\n",
      "    This is a function that will help you create a triangle with those number of rows\n",
      "\n"
     ]
    }
   ],
   "source": [
    "help(test10)"
   ]
  },
  {
   "cell_type": "code",
   "execution_count": 110,
   "id": "fb0a57e2-17ef-43d1-8cee-28e76ad9478e",
   "metadata": {
    "editable": true,
    "slideshow": {
     "slide_type": ""
    },
    "tags": []
   },
   "outputs": [],
   "source": [
    "def length(d):\n",
    "    charlength = 0;\n",
    "    if type(d)==str:\n",
    "        for i in d:\n",
    "            charlength += 1\n",
    "    return charlength\n",
    "            "
   ]
  },
  {
   "cell_type": "code",
   "execution_count": 114,
   "id": "413f87a5-e835-4cde-b419-dfb39f61b157",
   "metadata": {
    "editable": true,
    "slideshow": {
     "slide_type": ""
    },
    "tags": []
   },
   "outputs": [
    {
     "data": {
      "text/plain": [
       "1"
      ]
     },
     "execution_count": 114,
     "metadata": {},
     "output_type": "execute_result"
    }
   ],
   "source": [
    "length(\"r\")"
   ]
  },
  {
   "cell_type": "code",
   "execution_count": 116,
   "id": "bbb250d0-5d19-4e9e-881a-16a4625556e5",
   "metadata": {
    "editable": true,
    "slideshow": {
     "slide_type": ""
    },
    "tags": []
   },
   "outputs": [],
   "source": [
    "def printIndex(g):\n",
    "    if type(g)==list or type(g)==tuple:\n",
    "        for i in range(len(g)):\n",
    "            print(g[i], \"With index of \", i)\n",
    "    else:\n",
    "        print(\"Not a primitive type\")"
   ]
  },
  {
   "cell_type": "code",
   "execution_count": 142,
   "id": "9a5aaaaf-b6ff-467f-a371-452fa4b490bd",
   "metadata": {
    "editable": true,
    "slideshow": {
     "slide_type": ""
    },
    "tags": []
   },
   "outputs": [
    {
     "name": "stdout",
     "output_type": "stream",
     "text": [
      "1 With index of  0\n",
      "1 With index of  1\n",
      "143 With index of  2\n",
      "5 With index of  3\n"
     ]
    }
   ],
   "source": [
    "printIndex([1,1,143,5])"
   ]
  },
  {
   "cell_type": "code",
   "execution_count": 132,
   "id": "b59ce8fd-d75e-4d38-a486-62d2efd9ea38",
   "metadata": {
    "editable": true,
    "slideshow": {
     "slide_type": ""
    },
    "tags": []
   },
   "outputs": [],
   "source": [
    "def dical(f):\n",
    "    l = []\n",
    "    if type(f)==dict :\n",
    "        for i in f.values():\n",
    "            l.append(i)\n",
    "            if type(i)== dict:\n",
    "                for j in i.values():\n",
    "                    l.append(j)\n",
    " \n",
    "    return l\n",
    "            "
   ]
  },
  {
   "cell_type": "code",
   "execution_count": 134,
   "id": "2fd365f1-06e1-412c-ae24-108dcdd1211a",
   "metadata": {
    "editable": true,
    "slideshow": {
     "slide_type": ""
    },
    "tags": []
   },
   "outputs": [
    {
     "data": {
      "text/plain": [
       "[32, 99, {'a': 'dgdg'}, 'dgdg']"
      ]
     },
     "execution_count": 134,
     "metadata": {},
     "output_type": "execute_result"
    }
   ],
   "source": [
    "dical({\"df\":32, \"fefw\":99,\"n\":{\"a\":\"dgdg\"}})"
   ]
  },
  {
   "cell_type": "code",
   "execution_count": 136,
   "id": "492aeb2b-5e84-48be-94b3-b7bc53bbd95e",
   "metadata": {
    "editable": true,
    "slideshow": {
     "slide_type": ""
    },
    "tags": []
   },
   "outputs": [],
   "source": [
    "def gh():\n",
    "    return 5\n",
    "def anoth(j):\n",
    "    return \"taken another\""
   ]
  },
  {
   "cell_type": "code",
   "execution_count": 138,
   "id": "16fb6909-1ad5-438a-a2a0-8351b819cdd6",
   "metadata": {
    "editable": true,
    "slideshow": {
     "slide_type": ""
    },
    "tags": []
   },
   "outputs": [
    {
     "data": {
      "text/plain": [
       "'taken another'"
      ]
     },
     "execution_count": 138,
     "metadata": {},
     "output_type": "execute_result"
    }
   ],
   "source": [
    "anoth(gh())"
   ]
  },
  {
   "cell_type": "code",
   "execution_count": 146,
   "id": "2c5f091b-473d-4c18-bb18-0619c6570f62",
   "metadata": {
    "editable": true,
    "slideshow": {
     "slide_type": ""
    },
    "tags": []
   },
   "outputs": [
    {
     "name": "stdout",
     "output_type": "stream",
     "text": [
      "['style.css', 'script.js', 'pics.html', 'index.html']\n"
     ]
    }
   ],
   "source": [
    "import os\n",
    "\n",
    "def list_files_in_directory(directory):\n",
    "    return [entry.name for entry in os.scandir(directory) if entry.is_file()]\n",
    "\n",
    "# Example usage\n",
    "directory_path = '/home/conrad/conrad/val'\n",
    "files = list_files_in_directory(directory_path)\n",
    "print(files)\n"
   ]
  },
  {
   "cell_type": "code",
   "execution_count": 148,
   "id": "dac6e3dd-8422-49da-a0b8-4f7910d7f896",
   "metadata": {
    "editable": true,
    "slideshow": {
     "slide_type": ""
    },
    "tags": []
   },
   "outputs": [
    {
     "name": "stdout",
     "output_type": "stream",
     "text": [
      "Image format: JPEG, Size: (828, 1635), Mode: RGB\n"
     ]
    }
   ],
   "source": [
    "from PIL import Image\n",
    "\n",
    "def read_image(file_path):\n",
    "    try:\n",
    "        image = Image.open(file_path)\n",
    "        print(f\"Image format: {image.format}, Size: {image.size}, Mode: {image.mode}\")\n",
    "        return image\n",
    "    except Exception as e:\n",
    "        print(f\"Error reading image: {e}\")\n",
    "        return None\n",
    "\n",
    "# Example usage\n",
    "image_path = '/home/conrad/Downloads/img_3_1724374832365.jpg'\n",
    "image = read_image(image_path)\n",
    "if image:\n",
    "    image.show()  # Displays the image\n"
   ]
  },
  {
   "cell_type": "code",
   "execution_count": 150,
   "id": "e37995ab-0aa0-4db0-a425-52f555021f98",
   "metadata": {
    "editable": true,
    "slideshow": {
     "slide_type": ""
    },
    "tags": []
   },
   "outputs": [
    {
     "ename": "ModuleNotFoundError",
     "evalue": "No module named 'cv2'",
     "output_type": "error",
     "traceback": [
      "\u001b[0;31m---------------------------------------------------------------------------\u001b[0m",
      "\u001b[0;31mModuleNotFoundError\u001b[0m                       Traceback (most recent call last)",
      "Cell \u001b[0;32mIn[150], line 1\u001b[0m\n\u001b[0;32m----> 1\u001b[0m \u001b[38;5;28;01mimport\u001b[39;00m \u001b[38;5;21;01mcv2\u001b[39;00m\n\u001b[1;32m      3\u001b[0m \u001b[38;5;28;01mdef\u001b[39;00m \u001b[38;5;21mplay_video\u001b[39m(file_path):\n\u001b[1;32m      4\u001b[0m     \u001b[38;5;28;01mtry\u001b[39;00m:\n\u001b[1;32m      5\u001b[0m         \u001b[38;5;66;03m# Open the video file\u001b[39;00m\n",
      "\u001b[0;31mModuleNotFoundError\u001b[0m: No module named 'cv2'"
     ]
    }
   ],
   "source": [
    "import cv2\n",
    "\n",
    "def play_video(file_path):\n",
    "    try:\n",
    "        # Open the video file\n",
    "        video = cv2.VideoCapture(file_path)\n",
    "        \n",
    "        if not video.isOpened():\n",
    "            raise ValueError(\"Error opening video file. Check the file path.\")\n",
    "        \n",
    "        # Loop to read and display each frame\n",
    "        while True:\n",
    "            ret, frame = video.read()  # Read a frame\n",
    "            if not ret:  # Break the loop when the video ends\n",
    "                break\n",
    "            \n",
    "            cv2.imshow('Video', frame)  # Display the frame\n",
    "            \n",
    "            # Break the loop if the user presses the 'q' key\n",
    "            if cv2.waitKey(25) & 0xFF == ord('q'):\n",
    "                break\n",
    "        \n",
    "        video.release()  # Release the video file\n",
    "        cv2.destroyAllWindows()  # Close all OpenCV windows\n",
    "    except Exception as e:\n",
    "        print(f\"Error: {e}\")\n",
    "\n",
    "# Example usage\n",
    "video_path = '/home/conrad/Downloads/elistcars.com - Kizz Daniel, EMPIRE - Cough (Official Video).mp4'\n",
    "play_video(video_path)\n"
   ]
  },
  {
   "cell_type": "code",
   "execution_count": null,
   "id": "9843cf7c-d10c-4931-8c41-d53a13ae577b",
   "metadata": {
    "editable": true,
    "slideshow": {
     "slide_type": ""
    },
    "tags": []
   },
   "outputs": [],
   "source": []
  }
 ],
 "metadata": {
  "kernelspec": {
   "display_name": "Python [conda env:base] *",
   "language": "python",
   "name": "conda-base-py"
  },
  "language_info": {
   "codemirror_mode": {
    "name": "ipython",
    "version": 3
   },
   "file_extension": ".py",
   "mimetype": "text/x-python",
   "name": "python",
   "nbconvert_exporter": "python",
   "pygments_lexer": "ipython3",
   "version": "3.12.7"
  }
 },
 "nbformat": 4,
 "nbformat_minor": 5
}
