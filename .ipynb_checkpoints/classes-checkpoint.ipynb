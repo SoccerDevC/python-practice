{
 "cells": [
  {
   "cell_type": "code",
   "execution_count": 15,
   "id": "eb170430-1b38-457d-b2eb-b0fd37dcab1a",
   "metadata": {},
   "outputs": [],
   "source": [
    "class dictionary_parsing:\n",
    "    def __init__(self,d):\n",
    "        self.d = d\n",
    "\n",
    "    def get_keys(self):\n",
    "        return self.d.keys()\n",
    "\n",
    "    def get_values(self):\n",
    "        return self.d.values()\n",
    "\n",
    "    def check_input(self):\n",
    "        i = dict(input(\"Input a dictionary\"))\n",
    "        try:\n",
    "            if type(i) == dict:\n",
    "                pass\n",
    "        except Exception as e:\n",
    "            print(e)\n",
    "\n",
    "    def return_value_key_pair(self,k,l):\n",
    "        self.d[k]=l\n",
    "        "
   ]
  },
  {
   "cell_type": "code",
   "execution_count": 27,
   "id": "85cd7413-ba1d-46e5-a32f-70dea5999a64",
   "metadata": {},
   "outputs": [],
   "source": [
    "g=dictionary_parsing({2:\"jjkjkk\", 3:\"Hihhh\"})"
   ]
  },
  {
   "cell_type": "code",
   "execution_count": 29,
   "id": "bd4e7b19-27dc-4240-bb00-bb2b76e1e498",
   "metadata": {},
   "outputs": [
    {
     "data": {
      "text/plain": [
       "dict_keys([2, 3])"
      ]
     },
     "execution_count": 29,
     "metadata": {},
     "output_type": "execute_result"
    }
   ],
   "source": [
    "g.get_keys()"
   ]
  },
  {
   "cell_type": "code",
   "execution_count": 31,
   "id": "cf8269ed-85b6-4607-8a63-487962efdfc1",
   "metadata": {},
   "outputs": [
    {
     "name": "stdin",
     "output_type": "stream",
     "text": [
      "Input a dictionary {4:\"kkkk\"}\n"
     ]
    },
    {
     "ename": "ValueError",
     "evalue": "dictionary update sequence element #0 has length 1; 2 is required",
     "output_type": "error",
     "traceback": [
      "\u001b[0;31m---------------------------------------------------------------------------\u001b[0m",
      "\u001b[0;31mValueError\u001b[0m                                Traceback (most recent call last)",
      "Cell \u001b[0;32mIn[31], line 1\u001b[0m\n\u001b[0;32m----> 1\u001b[0m g\u001b[38;5;241m.\u001b[39mcheck_input()\n",
      "Cell \u001b[0;32mIn[15], line 12\u001b[0m, in \u001b[0;36mdictionary_parsing.check_input\u001b[0;34m(self)\u001b[0m\n\u001b[1;32m     11\u001b[0m \u001b[38;5;28;01mdef\u001b[39;00m \u001b[38;5;21mcheck_input\u001b[39m(\u001b[38;5;28mself\u001b[39m):\n\u001b[0;32m---> 12\u001b[0m     i \u001b[38;5;241m=\u001b[39m \u001b[38;5;28mdict\u001b[39m(\u001b[38;5;28minput\u001b[39m(\u001b[38;5;124m\"\u001b[39m\u001b[38;5;124mInput a dictionary\u001b[39m\u001b[38;5;124m\"\u001b[39m))\n\u001b[1;32m     13\u001b[0m     \u001b[38;5;28;01mtry\u001b[39;00m:\n\u001b[1;32m     14\u001b[0m         \u001b[38;5;28;01mif\u001b[39;00m \u001b[38;5;28mtype\u001b[39m(i) \u001b[38;5;241m==\u001b[39m \u001b[38;5;28mdict\u001b[39m:\n",
      "\u001b[0;31mValueError\u001b[0m: dictionary update sequence element #0 has length 1; 2 is required"
     ]
    }
   ],
   "source": [
    "g.check_input()"
   ]
  },
  {
   "cell_type": "code",
   "execution_count": null,
   "id": "acff462d-c62d-4237-9816-3544ec1901a4",
   "metadata": {},
   "outputs": [],
   "source": []
  }
 ],
 "metadata": {
  "kernelspec": {
   "display_name": "Python [conda env:base] *",
   "language": "python",
   "name": "conda-base-py"
  },
  "language_info": {
   "codemirror_mode": {
    "name": "ipython",
    "version": 3
   },
   "file_extension": ".py",
   "mimetype": "text/x-python",
   "name": "python",
   "nbconvert_exporter": "python",
   "pygments_lexer": "ipython3",
   "version": "3.12.7"
  }
 },
 "nbformat": 4,
 "nbformat_minor": 5
}
