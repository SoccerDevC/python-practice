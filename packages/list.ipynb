{
 "cells": [
  {
   "cell_type": "code",
   "execution_count": 29,
   "id": "fe87a411-b92c-4944-a7d0-89051978f4a2",
   "metadata": {},
   "outputs": [],
   "source": [
    "l = [1,2,3,4]"
   ]
  },
  {
   "cell_type": "code",
   "execution_count": 60,
   "id": "91ba34db-5058-482f-87e4-42ab027832a1",
   "metadata": {},
   "outputs": [
    {
     "data": {
      "text/plain": [
       "1"
      ]
     },
     "execution_count": 60,
     "metadata": {},
     "output_type": "execute_result"
    }
   ],
   "source": [
    "l.remove"
   ]
  },
  {
   "cell_type": "code",
   "execution_count": 62,
   "id": "e6e14183-0a3a-458b-a89c-97b99cecedd6",
   "metadata": {},
   "outputs": [],
   "source": [
    "import logging\n",
    "logging.basicConfig(filename = \"lists.log\", level = logging.DEBUG, format = '%(asctime)s %(message)s')"
   ]
  },
  {
   "cell_type": "code",
   "execution_count": 109,
   "id": "913bda16-22b1-4deb-bbe4-c89c1df6ac64",
   "metadata": {},
   "outputs": [],
   "source": [
    "class lists:\n",
    "    def __init__(self,ls):\n",
    "        logging.info(\"Successfully iniatialized the class\")\n",
    "        self.ls = ls\n",
    "    \n",
    "    def append(self, another):\n",
    "        return self.ls + another\n",
    "\n",
    "    def clear(self):\n",
    "        self.ls = []\n",
    "\n",
    "    def count(self,item):\n",
    "        count = 0\n",
    "        for i in range(len(self.ls)):\n",
    "            if self.ls[i]==item:\n",
    "                count +=1\n",
    "            logging.info(\"Counting the items appearances\")\n",
    "        if count > 0:   \n",
    "            return count\n",
    "        else:\n",
    "            logging.error(\"Item doesn't exist\")\n",
    "            raise Exception(\"Item does not exist\")\n",
    "\n",
    "    def remove(self,value):\n",
    "        new_list = []\n",
    "        existence = 0\n",
    "        for i in range(len(self.ls)):\n",
    "            self.ls = [item for item in self.ls if item!=value]\n",
    "\n",
    "        return self.ls"
   ]
  },
  {
   "cell_type": "code",
   "execution_count": 111,
   "id": "65e6e1fd-aa95-42ee-9909-b7b438ce573c",
   "metadata": {},
   "outputs": [],
   "source": [
    "d = lists([2,4,5])"
   ]
  },
  {
   "cell_type": "code",
   "execution_count": 113,
   "id": "b12f3fe9-f0b2-4761-8bd0-420fd00c41e7",
   "metadata": {},
   "outputs": [
    {
     "data": {
      "text/plain": [
       "[2, 4]"
      ]
     },
     "execution_count": 113,
     "metadata": {},
     "output_type": "execute_result"
    }
   ],
   "source": [
    "d.remove(5)"
   ]
  },
  {
   "cell_type": "code",
   "execution_count": 105,
   "id": "5ee24ba9-f379-408d-8bf0-db8f9850d68a",
   "metadata": {},
   "outputs": [
    {
     "data": {
      "text/plain": [
       "[2, 4, 5, 8]"
      ]
     },
     "execution_count": 105,
     "metadata": {},
     "output_type": "execute_result"
    }
   ],
   "source": [
    "d.append([8])"
   ]
  },
  {
   "cell_type": "code",
   "execution_count": 56,
   "id": "a86bc907-25bb-478f-838d-6fb4a4d4e8b8",
   "metadata": {},
   "outputs": [
    {
     "ename": "TypeError",
     "evalue": "object of type 'lists' has no len()",
     "output_type": "error",
     "traceback": [
      "\u001b[0;31m---------------------------------------------------------------------------\u001b[0m",
      "\u001b[0;31mTypeError\u001b[0m                                 Traceback (most recent call last)",
      "Cell \u001b[0;32mIn[56], line 1\u001b[0m\n\u001b[0;32m----> 1\u001b[0m \u001b[38;5;28;01mfor\u001b[39;00m i \u001b[38;5;129;01min\u001b[39;00m \u001b[38;5;28mrange\u001b[39m(\u001b[38;5;28mlen\u001b[39m(d)):\n\u001b[1;32m      2\u001b[0m     \u001b[38;5;28mprint\u001b[39m(i)\n",
      "\u001b[0;31mTypeError\u001b[0m: object of type 'lists' has no len()"
     ]
    }
   ],
   "source": [
    "for i in range(len(d)):\n",
    "    print(i)"
   ]
  },
  {
   "cell_type": "code",
   "execution_count": 52,
   "id": "db69151c-5f2d-4752-aa6f-306dabe445da",
   "metadata": {},
   "outputs": [
    {
     "data": {
      "text/plain": [
       "[23, 43]"
      ]
     },
     "execution_count": 52,
     "metadata": {},
     "output_type": "execute_result"
    }
   ],
   "source": [
    "d.append([23,43])"
   ]
  },
  {
   "cell_type": "code",
   "execution_count": null,
   "id": "5622f579-69e6-4a7a-b6b2-547b1ae1f5c7",
   "metadata": {},
   "outputs": [],
   "source": []
  }
 ],
 "metadata": {
  "kernelspec": {
   "display_name": "Python [conda env:base] *",
   "language": "python",
   "name": "conda-base-py"
  },
  "language_info": {
   "codemirror_mode": {
    "name": "ipython",
    "version": 3
   },
   "file_extension": ".py",
   "mimetype": "text/x-python",
   "name": "python",
   "nbconvert_exporter": "python",
   "pygments_lexer": "ipython3",
   "version": "3.12.7"
  }
 },
 "nbformat": 4,
 "nbformat_minor": 5
}
