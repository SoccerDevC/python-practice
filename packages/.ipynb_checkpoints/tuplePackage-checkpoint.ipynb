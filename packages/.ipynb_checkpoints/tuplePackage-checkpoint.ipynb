{
 "cells": [
  {
   "cell_type": "code",
   "execution_count": 9,
   "id": "4ce13dd4-b4a1-4500-99e7-4793b3518281",
   "metadata": {},
   "outputs": [],
   "source": [
    "t = (1,2,2,4)"
   ]
  },
  {
   "cell_type": "code",
   "execution_count": 15,
   "id": "879d5b49-7737-4d15-969a-c6c77c51153d",
   "metadata": {},
   "outputs": [
    {
     "data": {
      "text/plain": [
       "3"
      ]
     },
     "execution_count": 15,
     "metadata": {},
     "output_type": "execute_result"
    }
   ],
   "source": [
    "t.index(4)"
   ]
  },
  {
   "cell_type": "code",
   "execution_count": 19,
   "id": "e3b0a6c2-fe9d-42c8-a74f-231b996ef488",
   "metadata": {},
   "outputs": [
    {
     "data": {
      "text/plain": [
       "1"
      ]
     },
     "execution_count": 19,
     "metadata": {},
     "output_type": "execute_result"
    }
   ],
   "source": [
    "t.count(1)"
   ]
  },
  {
   "cell_type": "code",
   "execution_count": 7,
   "id": "bc640fbb-16c7-45f0-a1af-c6bf3d851a20",
   "metadata": {},
   "outputs": [],
   "source": [
    "import logging\n",
    "logging.basicConfig(filename = \"tupleClass.log\", level = logging.DEBUG, format = ('%(asctime)s %(message)s %(levelname)s'))"
   ]
  },
  {
   "cell_type": "code",
   "execution_count": 9,
   "id": "bc80cef5-cde9-4d9d-876b-d1ea625f4291",
   "metadata": {},
   "outputs": [],
   "source": [
    "class tuple_class:\n",
    "    def __init__(self,tp):\n",
    "        self.tp = tp\n",
    "\n",
    "    def count(self, item):\n",
    "        current_count = 0\n",
    "        try:\n",
    "            if type(item) == int:\n",
    "                \n",
    "                for i in range(len(self.tp)):\n",
    "                    \n",
    "                    if self.tp[i]== item:\n",
    "                        current_count +=1\n",
    "                        logging.info(\"counting the number of times the item is found\")\n",
    "                \n",
    "                if current_count ==0:\n",
    "                    raise Exception(\"Data not found\")\n",
    "\n",
    "                logging.info(\"Finished counting\")\n",
    "\n",
    "            else:\n",
    "                raise(\"index entered is not an integer\")\n",
    "                \n",
    "        except Exception as e:\n",
    "            logging.error(\"A number has not been entered\",e)\n",
    "        \n",
    "        return current_count\n",
    "\n",
    "    def index(self,item):\n",
    "\n",
    "        try:\n",
    "            for i in range(len(self.tp)):\n",
    "                if self.tp[i] == item:\n",
    "                    logging.info(\"Found the index of the requested tuple item\")\n",
    "                    return i\n",
    "\n",
    "        except Exception as e:\n",
    "            logging.error(\"Item not found\")"
   ]
  },
  {
   "cell_type": "code",
   "execution_count": 11,
   "id": "562b6127-a8a3-4233-9021-c96b98d0c895",
   "metadata": {},
   "outputs": [],
   "source": [
    "f = tuple_class((2,4,3,1,3))"
   ]
  },
  {
   "cell_type": "code",
   "execution_count": 13,
   "id": "2d70c2a9-6363-4cad-abb4-796714dce1a0",
   "metadata": {},
   "outputs": [
    {
     "name": "stdout",
     "output_type": "stream",
     "text": [
      "None\n"
     ]
    }
   ],
   "source": [
    "print(f.index(4))"
   ]
  },
  {
   "cell_type": "code",
   "execution_count": 15,
   "id": "dbc44916-f76f-453f-921d-4c9bc9d73de3",
   "metadata": {},
   "outputs": [
    {
     "data": {
      "text/plain": [
       "__main__.tuple_class"
      ]
     },
     "execution_count": 15,
     "metadata": {},
     "output_type": "execute_result"
    }
   ],
   "source": [
    "type(f)"
   ]
  },
  {
   "cell_type": "code",
   "execution_count": 17,
   "id": "520b3cb0-3bcd-4f6c-bf1f-1e3bcadd3f0e",
   "metadata": {},
   "outputs": [
    {
     "name": "stderr",
     "output_type": "stream",
     "text": [
      "--- Logging error ---\n",
      "Traceback (most recent call last):\n",
      "  File \"/tmp/ipykernel_885086/1789502738.py\", line 8, in count\n",
      "    if type(self.item) == int:\n",
      "            ^^^^^^^^^\n",
      "AttributeError: 'tuple_class' object has no attribute 'item'\n",
      "\n",
      "During handling of the above exception, another exception occurred:\n",
      "\n",
      "Traceback (most recent call last):\n",
      "  File \"/home/conrad/anaconda3/lib/python3.12/logging/__init__.py\", line 1160, in emit\n",
      "    msg = self.format(record)\n",
      "          ^^^^^^^^^^^^^^^^^^^\n",
      "  File \"/home/conrad/anaconda3/lib/python3.12/logging/__init__.py\", line 999, in format\n",
      "    return fmt.format(record)\n",
      "           ^^^^^^^^^^^^^^^^^^\n",
      "  File \"/home/conrad/anaconda3/lib/python3.12/logging/__init__.py\", line 703, in format\n",
      "    record.message = record.getMessage()\n",
      "                     ^^^^^^^^^^^^^^^^^^^\n",
      "  File \"/home/conrad/anaconda3/lib/python3.12/logging/__init__.py\", line 392, in getMessage\n",
      "    msg = msg % self.args\n",
      "          ~~~~^~~~~~~~~~~\n",
      "TypeError: not all arguments converted during string formatting\n",
      "Call stack:\n",
      "  File \"<frozen runpy>\", line 198, in _run_module_as_main\n",
      "  File \"<frozen runpy>\", line 88, in _run_code\n",
      "  File \"/home/conrad/anaconda3/lib/python3.12/site-packages/ipykernel_launcher.py\", line 17, in <module>\n",
      "    app.launch_new_instance()\n",
      "  File \"/home/conrad/anaconda3/lib/python3.12/site-packages/traitlets/config/application.py\", line 1075, in launch_instance\n",
      "    app.start()\n",
      "  File \"/home/conrad/anaconda3/lib/python3.12/site-packages/ipykernel/kernelapp.py\", line 701, in start\n",
      "    self.io_loop.start()\n",
      "  File \"/home/conrad/anaconda3/lib/python3.12/site-packages/tornado/platform/asyncio.py\", line 205, in start\n",
      "    self.asyncio_loop.run_forever()\n",
      "  File \"/home/conrad/anaconda3/lib/python3.12/asyncio/base_events.py\", line 641, in run_forever\n",
      "    self._run_once()\n",
      "  File \"/home/conrad/anaconda3/lib/python3.12/asyncio/base_events.py\", line 1986, in _run_once\n",
      "    handle._run()\n",
      "  File \"/home/conrad/anaconda3/lib/python3.12/asyncio/events.py\", line 88, in _run\n",
      "    self._context.run(self._callback, *self._args)\n",
      "  File \"/home/conrad/anaconda3/lib/python3.12/site-packages/ipykernel/kernelbase.py\", line 534, in dispatch_queue\n",
      "    await self.process_one()\n",
      "  File \"/home/conrad/anaconda3/lib/python3.12/site-packages/ipykernel/kernelbase.py\", line 523, in process_one\n",
      "    await dispatch(*args)\n",
      "  File \"/home/conrad/anaconda3/lib/python3.12/site-packages/ipykernel/kernelbase.py\", line 429, in dispatch_shell\n",
      "    await result\n",
      "  File \"/home/conrad/anaconda3/lib/python3.12/site-packages/ipykernel/kernelbase.py\", line 767, in execute_request\n",
      "    reply_content = await reply_content\n",
      "  File \"/home/conrad/anaconda3/lib/python3.12/site-packages/ipykernel/ipkernel.py\", line 429, in do_execute\n",
      "    res = shell.run_cell(\n",
      "  File \"/home/conrad/anaconda3/lib/python3.12/site-packages/ipykernel/zmqshell.py\", line 549, in run_cell\n",
      "    return super().run_cell(*args, **kwargs)\n",
      "  File \"/home/conrad/anaconda3/lib/python3.12/site-packages/IPython/core/interactiveshell.py\", line 3075, in run_cell\n",
      "    result = self._run_cell(\n",
      "  File \"/home/conrad/anaconda3/lib/python3.12/site-packages/IPython/core/interactiveshell.py\", line 3130, in _run_cell\n",
      "    result = runner(coro)\n",
      "  File \"/home/conrad/anaconda3/lib/python3.12/site-packages/IPython/core/async_helpers.py\", line 128, in _pseudo_sync_runner\n",
      "    coro.send(None)\n",
      "  File \"/home/conrad/anaconda3/lib/python3.12/site-packages/IPython/core/interactiveshell.py\", line 3334, in run_cell_async\n",
      "    has_raised = await self.run_ast_nodes(code_ast.body, cell_name,\n",
      "  File \"/home/conrad/anaconda3/lib/python3.12/site-packages/IPython/core/interactiveshell.py\", line 3517, in run_ast_nodes\n",
      "    if await self.run_code(code, result, async_=asy):\n",
      "  File \"/home/conrad/anaconda3/lib/python3.12/site-packages/IPython/core/interactiveshell.py\", line 3577, in run_code\n",
      "    exec(code_obj, self.user_global_ns, self.user_ns)\n",
      "  File \"/tmp/ipykernel_885086/2469337605.py\", line 1, in <module>\n",
      "    f.count(3)\n",
      "  File \"/tmp/ipykernel_885086/1789502738.py\", line 22, in count\n",
      "    logging.error(\"A number has not been entered\",e)\n",
      "Message: 'A number has not been entered'\n",
      "Arguments: (AttributeError(\"'tuple_class' object has no attribute 'item'\"),)\n"
     ]
    },
    {
     "data": {
      "text/plain": [
       "0"
      ]
     },
     "execution_count": 17,
     "metadata": {},
     "output_type": "execute_result"
    }
   ],
   "source": [
    "f.count(3)"
   ]
  },
  {
   "cell_type": "code",
   "execution_count": null,
   "id": "4d244054-589e-48d0-bb43-a4327b872dc3",
   "metadata": {},
   "outputs": [],
   "source": []
  }
 ],
 "metadata": {
  "kernelspec": {
   "display_name": "Python [conda env:base] *",
   "language": "python",
   "name": "conda-base-py"
  },
  "language_info": {
   "codemirror_mode": {
    "name": "ipython",
    "version": 3
   },
   "file_extension": ".py",
   "mimetype": "text/x-python",
   "name": "python",
   "nbconvert_exporter": "python",
   "pygments_lexer": "ipython3",
   "version": "3.12.7"
  }
 },
 "nbformat": 4,
 "nbformat_minor": 5
}
