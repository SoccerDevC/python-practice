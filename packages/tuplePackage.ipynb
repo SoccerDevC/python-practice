{
 "cells": [
  {
   "cell_type": "code",
   "execution_count": 9,
   "id": "4ce13dd4-b4a1-4500-99e7-4793b3518281",
   "metadata": {},
   "outputs": [],
   "source": [
    "t = (1,2,2,4)"
   ]
  },
  {
   "cell_type": "code",
   "execution_count": 15,
   "id": "879d5b49-7737-4d15-969a-c6c77c51153d",
   "metadata": {},
   "outputs": [
    {
     "data": {
      "text/plain": [
       "3"
      ]
     },
     "execution_count": 15,
     "metadata": {},
     "output_type": "execute_result"
    }
   ],
   "source": [
    "t.index(4)"
   ]
  },
  {
   "cell_type": "code",
   "execution_count": 19,
   "id": "e3b0a6c2-fe9d-42c8-a74f-231b996ef488",
   "metadata": {},
   "outputs": [
    {
     "data": {
      "text/plain": [
       "1"
      ]
     },
     "execution_count": 19,
     "metadata": {},
     "output_type": "execute_result"
    }
   ],
   "source": [
    "t.count(1)"
   ]
  },
  {
   "cell_type": "code",
   "execution_count": 7,
   "id": "bc640fbb-16c7-45f0-a1af-c6bf3d851a20",
   "metadata": {},
   "outputs": [],
   "source": [
    "import logging\n",
    "logging.basicConfig(filename = \"tupleClass.log\", level = logging.DEBUG, format = ('%(asctime)s %(message)s %(levelname)s'))"
   ]
  },
  {
   "cell_type": "code",
   "execution_count": 22,
   "id": "bc80cef5-cde9-4d9d-876b-d1ea625f4291",
   "metadata": {},
   "outputs": [],
   "source": [
    "class tuple_class:\n",
    "    def __init__(self,tp):\n",
    "        self.tp = tp\n",
    "\n",
    "    def count(self, item):\n",
    "        current_count = 0\n",
    "        try:\n",
    "            if type(item) == int:\n",
    "                \n",
    "                for i in range(len(self.tp)):\n",
    "                    \n",
    "                    if self.tp[i]== item:\n",
    "                        current_count +=1\n",
    "                        logging.info(\"counting the number of times the item is found\")\n",
    "                \n",
    "                if current_count ==0:\n",
    "                    raise Exception(\"Data not found\")\n",
    "\n",
    "                logging.info(\"Finished counting\")\n",
    "\n",
    "            else:\n",
    "                raise(\"index entered is not an integer\")\n",
    "                \n",
    "        except Exception as e:\n",
    "            logging.error(\"A number has not been entered\",e)\n",
    "        \n",
    "        return current_count\n",
    "\n",
    "    def index(self,item):\n",
    "\n",
    "        try:\n",
    "            for i in range(len(self.tp)):\n",
    "                if self.tp[i] == item:\n",
    "                    logging.info(\"Found the index of the requested tuple item\")\n",
    "                    return i\n",
    "\n",
    "        except Exception as e:\n",
    "            logging.error(\"Item not found\")"
   ]
  },
  {
   "cell_type": "code",
   "execution_count": 24,
   "id": "562b6127-a8a3-4233-9021-c96b98d0c895",
   "metadata": {},
   "outputs": [],
   "source": [
    "f = tuple_class((2,4,3,1,3))"
   ]
  },
  {
   "cell_type": "code",
   "execution_count": 26,
   "id": "2d70c2a9-6363-4cad-abb4-796714dce1a0",
   "metadata": {},
   "outputs": [
    {
     "name": "stdout",
     "output_type": "stream",
     "text": [
      "1\n"
     ]
    }
   ],
   "source": [
    "print(f.index(4))"
   ]
  },
  {
   "cell_type": "code",
   "execution_count": 28,
   "id": "dbc44916-f76f-453f-921d-4c9bc9d73de3",
   "metadata": {},
   "outputs": [
    {
     "data": {
      "text/plain": [
       "__main__.tuple_class"
      ]
     },
     "execution_count": 28,
     "metadata": {},
     "output_type": "execute_result"
    }
   ],
   "source": [
    "type(f)"
   ]
  },
  {
   "cell_type": "code",
   "execution_count": 30,
   "id": "520b3cb0-3bcd-4f6c-bf1f-1e3bcadd3f0e",
   "metadata": {},
   "outputs": [
    {
     "data": {
      "text/plain": [
       "2"
      ]
     },
     "execution_count": 30,
     "metadata": {},
     "output_type": "execute_result"
    }
   ],
   "source": [
    "f.count(3)"
   ]
  },
  {
   "cell_type": "code",
   "execution_count": null,
   "id": "4d244054-589e-48d0-bb43-a4327b872dc3",
   "metadata": {},
   "outputs": [],
   "source": []
  }
 ],
 "metadata": {
  "kernelspec": {
   "display_name": "Python [conda env:base] *",
   "language": "python",
   "name": "conda-base-py"
  },
  "language_info": {
   "codemirror_mode": {
    "name": "ipython",
    "version": 3
   },
   "file_extension": ".py",
   "mimetype": "text/x-python",
   "name": "python",
   "nbconvert_exporter": "python",
   "pygments_lexer": "ipython3",
   "version": "3.12.7"
  }
 },
 "nbformat": 4,
 "nbformat_minor": 5
}
