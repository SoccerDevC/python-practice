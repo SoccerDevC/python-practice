{
 "cells": [
  {
   "cell_type": "code",
   "execution_count": 1,
   "id": "6527b446-28a1-40d5-83c3-fd758163692f",
   "metadata": {},
   "outputs": [],
   "source": [
    "def gencube(n):\n",
    "    for i in range(n):\n",
    "        yield i**3"
   ]
  },
  {
   "cell_type": "code",
   "execution_count": 3,
   "id": "e3ae828e-7e49-489d-8995-12b18ea399c9",
   "metadata": {},
   "outputs": [
    {
     "data": {
      "text/plain": [
       "<generator object gencube at 0x7527fd714930>"
      ]
     },
     "execution_count": 3,
     "metadata": {},
     "output_type": "execute_result"
    }
   ],
   "source": [
    "gencube(9)"
   ]
  },
  {
   "cell_type": "code",
   "execution_count": 7,
   "id": "bf9d41d1-33fb-4238-84ce-f05c9b2a297a",
   "metadata": {},
   "outputs": [
    {
     "name": "stdout",
     "output_type": "stream",
     "text": [
      "0\n",
      "1\n",
      "8\n",
      "27\n",
      "64\n",
      "125\n",
      "216\n",
      "343\n",
      "512\n",
      "729\n"
     ]
    }
   ],
   "source": [
    "for i in gencube(10):\n",
    "    print(i)"
   ]
  },
  {
   "cell_type": "code",
   "execution_count": 9,
   "id": "b537d172-424a-432f-923a-77615849dfa1",
   "metadata": {},
   "outputs": [],
   "source": [
    "def fib(n):\n",
    "    a=1\n",
    "    b=1\n",
    "    for i in range(n):\n",
    "        yield a,i\n",
    "        a,b = b, a+b"
   ]
  },
  {
   "cell_type": "code",
   "execution_count": 11,
   "id": "c06f513d-7100-4162-a2b8-5aaaf240aad4",
   "metadata": {},
   "outputs": [
    {
     "name": "stdout",
     "output_type": "stream",
     "text": [
      "(1, 0)\n",
      "(1, 1)\n",
      "(2, 2)\n",
      "(3, 3)\n",
      "(5, 4)\n",
      "(8, 5)\n",
      "(13, 6)\n",
      "(21, 7)\n",
      "(34, 8)\n",
      "(55, 9)\n"
     ]
    }
   ],
   "source": [
    "for i in fib(10):\n",
    "    print(i)"
   ]
  },
  {
   "cell_type": "code",
   "execution_count": 35,
   "id": "5f5c69e2-c4ff-480f-828c-7ac7e0a66e3f",
   "metadata": {},
   "outputs": [],
   "source": [
    "f = open(\"text.txt\",\"w\")"
   ]
  },
  {
   "cell_type": "code",
   "execution_count": 27,
   "id": "c7fba89d-4e90-472e-8e3a-c4aac2e1facb",
   "metadata": {},
   "outputs": [
    {
     "name": "stdout",
     "output_type": "stream",
     "text": [
      "functions.ipynb  Prsctice.ipynb  text.txt  Untitled.ipynb\n"
     ]
    }
   ],
   "source": [
    "ls"
   ]
  },
  {
   "cell_type": "code",
   "execution_count": 17,
   "id": "1830b56b-8456-40b7-b363-e916eaea3517",
   "metadata": {},
   "outputs": [
    {
     "data": {
      "text/plain": [
       "'/home/conrad/conrad/practice/python-practice'"
      ]
     },
     "execution_count": 17,
     "metadata": {},
     "output_type": "execute_result"
    }
   ],
   "source": [
    "pwd()"
   ]
  },
  {
   "cell_type": "code",
   "execution_count": 37,
   "id": "4d0cc639-b354-458f-af5e-1498a64376a3",
   "metadata": {},
   "outputs": [
    {
     "data": {
      "text/plain": [
       "85"
      ]
     },
     "execution_count": 37,
     "metadata": {},
     "output_type": "execute_result"
    }
   ],
   "source": [
    "f.write(\"This is myknkhjhj hj hihgfk  drrsrrr es  y ft yggggggggggggggggg gyoiunt h first line\")"
   ]
  },
  {
   "cell_type": "code",
   "execution_count": 39,
   "id": "5107390e-41af-4524-af32-472d9b7ccde4",
   "metadata": {},
   "outputs": [],
   "source": [
    "f.close()"
   ]
  },
  {
   "cell_type": "code",
   "execution_count": 41,
   "id": "654b7d1f-3ae6-4d88-9015-56469832ebeb",
   "metadata": {},
   "outputs": [
    {
     "name": "stdout",
     "output_type": "stream",
     "text": [
      "Writing test2.txt\n"
     ]
    }
   ],
   "source": [
    "%%writefile test2.txt\n",
    "THis is my second file "
   ]
  },
  {
   "cell_type": "code",
   "execution_count": 43,
   "id": "2440abc5-ae4a-4800-afe4-f84200b73864",
   "metadata": {},
   "outputs": [
    {
     "name": "stdout",
     "output_type": "stream",
     "text": [
      "Writing test2\n"
     ]
    }
   ],
   "source": [
    "%%writefile test2\n",
    "hehehhe"
   ]
  },
  {
   "cell_type": "code",
   "execution_count": 45,
   "id": "f92c0734-0db3-484c-a4e7-ebbfb7f07f98",
   "metadata": {},
   "outputs": [],
   "source": [
    "f = open(\"text.txt\")"
   ]
  },
  {
   "cell_type": "code",
   "execution_count": 47,
   "id": "8fa7a8fc-cd16-441c-ba61-c68ad70440f7",
   "metadata": {},
   "outputs": [
    {
     "data": {
      "text/plain": [
       "'This is myknkhjhj hj hihgfk  drrsrrr es  y ft yggggggggggggggggg gyoiunt h first line'"
      ]
     },
     "execution_count": 47,
     "metadata": {},
     "output_type": "execute_result"
    }
   ],
   "source": [
    "f.read()"
   ]
  },
  {
   "cell_type": "code",
   "execution_count": 53,
   "id": "7b023c2e-468f-43e1-aa78-1d789fdc5bd4",
   "metadata": {},
   "outputs": [
    {
     "data": {
      "text/plain": [
       "'s is myknkhjhj hj hihgfk  drrsrrr es  y ft yggggggggggggggggg gyoiunt h first line'"
      ]
     },
     "execution_count": 53,
     "metadata": {},
     "output_type": "execute_result"
    }
   ],
   "source": [
    "f.read()"
   ]
  },
  {
   "cell_type": "code",
   "execution_count": 51,
   "id": "46fcb060-28e5-42ea-86ed-59d78426141b",
   "metadata": {},
   "outputs": [
    {
     "data": {
      "text/plain": [
       "3"
      ]
     },
     "execution_count": 51,
     "metadata": {},
     "output_type": "execute_result"
    }
   ],
   "source": [
    "f.seek(3)"
   ]
  },
  {
   "cell_type": "code",
   "execution_count": 55,
   "id": "77b27338-696a-4a53-9839-5b5b8070bfe0",
   "metadata": {},
   "outputs": [
    {
     "data": {
      "text/plain": [
       "85"
      ]
     },
     "execution_count": 55,
     "metadata": {},
     "output_type": "execute_result"
    }
   ],
   "source": [
    "f.tell()"
   ]
  },
  {
   "cell_type": "code",
   "execution_count": 57,
   "id": "7711b0e3-1d13-4a30-bcca-f1bb0de30690",
   "metadata": {},
   "outputs": [
    {
     "data": {
      "text/plain": [
       "7"
      ]
     },
     "execution_count": 57,
     "metadata": {},
     "output_type": "execute_result"
    }
   ],
   "source": [
    "f.seek(7)"
   ]
  },
  {
   "cell_type": "code",
   "execution_count": 59,
   "id": "7cccffd9-cfeb-4c81-8153-4f207bf90a26",
   "metadata": {},
   "outputs": [
    {
     "data": {
      "text/plain": [
       "7"
      ]
     },
     "execution_count": 59,
     "metadata": {},
     "output_type": "execute_result"
    }
   ],
   "source": [
    "f.tell()"
   ]
  },
  {
   "cell_type": "code",
   "execution_count": 65,
   "id": "a062c040-b10d-4f94-a78c-bb42dd22f64a",
   "metadata": {},
   "outputs": [],
   "source": [
    "f = open(\"google.txt\", \"w\")"
   ]
  },
  {
   "cell_type": "code",
   "execution_count": 69,
   "id": "8bb3c9a0-7a82-47fd-8c6d-772ca95b9900",
   "metadata": {},
   "outputs": [
    {
     "data": {
      "text/plain": [
       "1946"
      ]
     },
     "execution_count": 69,
     "metadata": {},
     "output_type": "execute_result"
    }
   ],
   "source": [
    "f.write(\"\"\"This article is about the company. For the search engine provided by the company, see Google Search. For the parent company with the stock tickers GOOG and GOOGL, see Alphabet Inc. For the number, see Googol. For other uses, see Google (disambiguation).\n",
    "Google LLC\n",
    "Each letter of \"Google\" is colored (from left to right) in blue, red, yellow, blue, green, and red.\n",
    "The Google logo used since 2015\n",
    "\n",
    "Google's headquarters, the Googleplex\n",
    "Formerly\tGoogle Inc. (1998–2017)\n",
    "Company type\tSubsidiary\n",
    "Traded as\tNASDAQ: GOOGL, GOOG\n",
    "Industry\t\n",
    "Internet\n",
    "Cloud computing\n",
    "Computer software\n",
    "Computer hardware\n",
    "Artificial intelligence\n",
    "Advertising\n",
    "Founded\tSeptember 4, 1998; 26 years ago[a] in Menlo Park, California, United States\n",
    "Founders\t\n",
    "Larry Page\n",
    "Sergey Brin\n",
    "Headquarters\tGoogleplex, Mountain View, California, U.S.\n",
    "Area served\tWorldwide\n",
    "Key people\t\n",
    "Sundar Pichai (CEO)\n",
    "Ruth Porat (President and CIO)\n",
    "Anat Ashkenazi (CFO)\n",
    "Thomas Kurian (CEO of Google Cloud)\n",
    "Products\t\n",
    "Android\n",
    "Nest\n",
    "Pixel\n",
    "Search\n",
    "Workspace\n",
    "Fitbit\n",
    "Waze\n",
    "YouTube\n",
    "Full list\n",
    "Number of employees\t182,502 (2023) \n",
    "Parent\tAlphabet Inc.\n",
    "Subsidiaries\t\n",
    "Adscape\n",
    "Cameyo\n",
    "Charleston Road Registry\n",
    "DeepMind\n",
    "Endoxon\n",
    "FeedBurner\n",
    "ImageAmerica\n",
    "Kaltix\n",
    "Nest Labs\n",
    "reCAPTCHA\n",
    "YouTube\n",
    "ZipDash\n",
    "ASN\t\n",
    "15169\n",
    "Website\tabout.google\n",
    "Footnotes / references\n",
    "[5][6][7][8]\n",
    "Eric Schmidt, Sergey Brin, and Larry Page sitting together\n",
    "Then Chairman and CEO Eric Schmidt (left) with co-founders Sergey Brin (center) and Larry Page (right) in 2008\n",
    "Google LLC (/ˈɡuːɡəl/ ⓘ, GOO-gəl) is an American multinational corporation and technology company focusing on online advertising, search engine technology, cloud computing, computer software, quantum computing, e-commerce, consumer electronics, and artificial intelligence (AI).[9] It has been referred to as \"the most powerful company in the world\"[10] and is one of the world's most valuable brands due to its market dominance, data collection, and technological advantages in the field of\"\"\")"
   ]
  },
  {
   "cell_type": "code",
   "execution_count": 73,
   "id": "c3e2ae16-4779-4ae2-a704-afaff25dd52a",
   "metadata": {},
   "outputs": [],
   "source": [
    "f.close()"
   ]
  },
  {
   "cell_type": "code",
   "execution_count": 105,
   "id": "bf3504b2-a297-400c-9d52-e84aaff20adc",
   "metadata": {},
   "outputs": [],
   "source": [
    "f=open(\"google.txt\",\"r+\")"
   ]
  },
  {
   "cell_type": "code",
   "execution_count": 77,
   "id": "e383446a-1656-4338-aa12-52f5ec763599",
   "metadata": {},
   "outputs": [
    {
     "data": {
      "text/plain": [
       "'This article is about the company. For the search engine provided by the company, see Google Search. For the parent company with the stock tickers GOOG and GOOGL, see Alphabet Inc. For the number, see Googol. For other uses, see Google (disambiguation).\\n'"
      ]
     },
     "execution_count": 77,
     "metadata": {},
     "output_type": "execute_result"
    }
   ],
   "source": [
    "f.readline()"
   ]
  },
  {
   "cell_type": "code",
   "execution_count": 93,
   "id": "7492b1e6-90fa-428e-9566-b4f8122ab235",
   "metadata": {},
   "outputs": [
    {
     "name": "stdout",
     "output_type": "stream",
     "text": [
      "This article is about the company. For the search engine provided by the company, see Google Search. For the parent company with the stock tickers GOOG and GOOGL, see Alphabet Inc. For the number, see Googol. For other uses, see Google (disambiguation).\n",
      "\n",
      "Google LLC\n",
      "\n",
      "Each letter of \"Google\" is colored (from left to right) in blue, red, yellow, blue, green, and red.\n",
      "\n",
      "The Google logo used since 2015\n",
      "\n",
      "\n",
      "\n",
      "Google's headquarters, the Googleplex\n",
      "\n",
      "Formerly\tGoogle Inc. (1998–2017)\n",
      "\n",
      "Company type\tSubsidiary\n",
      "\n",
      "Traded as\tNASDAQ: GOOGL, GOOG\n",
      "\n",
      "Industry\t\n",
      "\n",
      "Internet\n",
      "\n",
      "Cloud computing\n",
      "\n",
      "Computer software\n",
      "\n",
      "Computer hardware\n",
      "\n",
      "Artificial intelligence\n",
      "\n",
      "Advertising\n",
      "\n",
      "Founded\tSeptember 4, 1998; 26 years ago[a] in Menlo Park, California, United States\n",
      "\n",
      "Founders\t\n",
      "\n",
      "Larry Page\n",
      "\n",
      "Sergey Brin\n",
      "\n",
      "Headquarters\tGoogleplex, Mountain View, California, U.S.\n",
      "\n",
      "Area served\tWorldwide\n",
      "\n",
      "Key people\t\n",
      "\n",
      "Sundar Pichai (CEO)\n",
      "\n",
      "Ruth Porat (President and CIO)\n",
      "\n",
      "Anat Ashkenazi (CFO)\n",
      "\n",
      "Thomas Kurian (CEO of Google Cloud)\n",
      "\n",
      "Products\t\n",
      "\n",
      "Android\n",
      "\n",
      "Nest\n",
      "\n",
      "Pixel\n",
      "\n",
      "Search\n",
      "\n",
      "Workspace\n",
      "\n",
      "Fitbit\n",
      "\n",
      "Waze\n",
      "\n",
      "YouTube\n",
      "\n",
      "Full list\n",
      "\n",
      "Number of employees\t182,502 (2023) \n",
      "\n",
      "Parent\tAlphabet Inc.\n",
      "\n",
      "Subsidiaries\t\n",
      "\n",
      "Adscape\n",
      "\n",
      "Cameyo\n",
      "\n",
      "Charleston Road Registry\n",
      "\n",
      "DeepMind\n",
      "\n",
      "Endoxon\n",
      "\n",
      "FeedBurner\n",
      "\n",
      "ImageAmerica\n",
      "\n",
      "Kaltix\n",
      "\n",
      "Nest Labs\n",
      "\n",
      "reCAPTCHA\n",
      "\n",
      "YouTube\n",
      "\n",
      "ZipDash\n",
      "\n",
      "ASN\t\n",
      "\n",
      "15169\n",
      "\n",
      "Website\tabout.google\n",
      "\n",
      "Footnotes / references\n",
      "\n",
      "[5][6][7][8]\n",
      "\n",
      "Eric Schmidt, Sergey Brin, and Larry Page sitting together\n",
      "\n",
      "Then Chairman and CEO Eric Schmidt (left) with co-founders Sergey Brin (center) and Larry Page (right) in 2008\n",
      "\n",
      "Google LLC (/ˈɡuːɡəl/ ⓘ, GOO-gəl) is an American multinational corporation and technology company focusing on online advertising, search engine technology, cloud computing, computer software, quantum computing, e-commerce, consumer electronics, and artificial intelligence (AI).[9] It has been referred to as \"the most powerful company in the world\"[10] and is one of the world's most valuable brands due to its market dominance, data collection, and technological advantages in the field of\n"
     ]
    }
   ],
   "source": [
    "for line in f:\n",
    "    print(line)"
   ]
  },
  {
   "cell_type": "code",
   "execution_count": 91,
   "id": "594c264a-a764-4689-8148-2878a4ce0959",
   "metadata": {},
   "outputs": [
    {
     "data": {
      "text/plain": [
       "0"
      ]
     },
     "execution_count": 91,
     "metadata": {},
     "output_type": "execute_result"
    }
   ],
   "source": [
    "f.seek(0)"
   ]
  },
  {
   "cell_type": "code",
   "execution_count": 99,
   "id": "4796c416-08a3-4791-9955-e882f55f538d",
   "metadata": {},
   "outputs": [
    {
     "data": {
      "text/plain": [
       "4"
      ]
     },
     "execution_count": 99,
     "metadata": {},
     "output_type": "execute_result"
    }
   ],
   "source": [
    "f.write(\"hehe\")"
   ]
  },
  {
   "cell_type": "code",
   "execution_count": 101,
   "id": "b41782df-52af-455d-b4ee-b30193d105f0",
   "metadata": {},
   "outputs": [],
   "source": [
    "f.close()"
   ]
  },
  {
   "cell_type": "code",
   "execution_count": 107,
   "id": "e0e483b1-2a66-4e00-9f49-b8ef199f3de6",
   "metadata": {},
   "outputs": [
    {
     "data": {
      "text/plain": [
       "'hehe article is about the company. For the search engine provided by the company, see Google Search. For the parent company with the stock tickers GOOG and GOOGL, see Alphabet Inc. For the number, see Googol. For other uses, see Google (disambiguation).\\nGoogle LLC\\nEach letter of \"Google\" is colored (from left to right) in blue, red, yellow, blue, green, and red.\\nThe Google logo used since 2015\\n\\nGoogle\\'s headquarters, the Googleplex\\nFormerly\\tGoogle Inc. (1998–2017)\\nCompany type\\tSubsidiary\\nTraded as\\tNASDAQ: GOOGL, GOOG\\nIndustry\\t\\nInternet\\nCloud computing\\nComputer software\\nComputer hardware\\nArtificial intelligence\\nAdvertising\\nFounded\\tSeptember 4, 1998; 26 years ago[a] in Menlo Park, California, United States\\nFounders\\t\\nLarry Page\\nSergey Brin\\nHeadquarters\\tGoogleplex, Mountain View, California, U.S.\\nArea served\\tWorldwide\\nKey people\\t\\nSundar Pichai (CEO)\\nRuth Porat (President and CIO)\\nAnat Ashkenazi (CFO)\\nThomas Kurian (CEO of Google Cloud)\\nProducts\\t\\nAndroid\\nNest\\nPixel\\nSearch\\nWorkspace\\nFitbit\\nWaze\\nYouTube\\nFull list\\nNumber of employees\\t182,502 (2023) \\nParent\\tAlphabet Inc.\\nSubsidiaries\\t\\nAdscape\\nCameyo\\nCharleston Road Registry\\nDeepMind\\nEndoxon\\nFeedBurner\\nImageAmerica\\nKaltix\\nNest Labs\\nreCAPTCHA\\nYouTube\\nZipDash\\nASN\\t\\n15169\\nWebsite\\tabout.google\\nFootnotes / references\\n[5][6][7][8]\\nEric Schmidt, Sergey Brin, and Larry Page sitting together\\nThen Chairman and CEO Eric Schmidt (left) with co-founders Sergey Brin (center) and Larry Page (right) in 2008\\nGoogle LLC (/ˈɡuːɡəl/ ⓘ, GOO-gəl) is an American multinational corporation and technology company focusing on online advertising, search engine technology, cloud computing, computer software, quantum computing, e-commerce, consumer electronics, and artificial intelligence (AI).[9] It has been referred to as \"the most powerful company in the world\"[10] and is one of the world\\'s most valuable brands due to its market dominance, data collection, and technological advantages in the field of'"
      ]
     },
     "execution_count": 107,
     "metadata": {},
     "output_type": "execute_result"
    }
   ],
   "source": [
    "f.read()"
   ]
  },
  {
   "cell_type": "code",
   "execution_count": 109,
   "id": "7c2ed6bd-1e05-4fb7-80d3-64eaea2f21b8",
   "metadata": {},
   "outputs": [
    {
     "data": {
      "text/plain": [
       "0"
      ]
     },
     "execution_count": 109,
     "metadata": {},
     "output_type": "execute_result"
    }
   ],
   "source": [
    "f.seek(0)"
   ]
  },
  {
   "cell_type": "code",
   "execution_count": 111,
   "id": "026074b8-4c91-46a6-acf6-d2652d5b64a8",
   "metadata": {},
   "outputs": [
    {
     "data": {
      "text/plain": [
       "0"
      ]
     },
     "execution_count": 111,
     "metadata": {},
     "output_type": "execute_result"
    }
   ],
   "source": [
    "f.tell()"
   ]
  },
  {
   "cell_type": "code",
   "execution_count": 113,
   "id": "a3c76186-d366-4d7e-bef6-88a7618ce9ed",
   "metadata": {},
   "outputs": [],
   "source": [
    "l = f.readlines()"
   ]
  },
  {
   "cell_type": "code",
   "execution_count": 115,
   "id": "73919233-7ebb-45bc-9484-8b06ea6a755a",
   "metadata": {},
   "outputs": [
    {
     "data": {
      "text/plain": [
       "60"
      ]
     },
     "execution_count": 115,
     "metadata": {},
     "output_type": "execute_result"
    }
   ],
   "source": [
    "len(l)"
   ]
  },
  {
   "cell_type": "code",
   "execution_count": 119,
   "id": "4a56a754-c090-4a76-9a84-c555deb23d30",
   "metadata": {},
   "outputs": [],
   "source": [
    "k=l[0].split()"
   ]
  },
  {
   "cell_type": "code",
   "execution_count": 123,
   "id": "281400b1-79da-463d-a918-1a2d9afb1526",
   "metadata": {},
   "outputs": [],
   "source": [
    "o=[]\n",
    "for i in k:\n",
    "    o.append(i[0])\n",
    "\n"
   ]
  },
  {
   "cell_type": "code",
   "execution_count": 125,
   "id": "67bc1f63-a823-4594-a5fd-63876c5e29bd",
   "metadata": {},
   "outputs": [
    {
     "data": {
      "text/plain": [
       "['h',\n",
       " 'a',\n",
       " 'i',\n",
       " 'a',\n",
       " 't',\n",
       " 'c',\n",
       " 'F',\n",
       " 't',\n",
       " 's',\n",
       " 'e',\n",
       " 'p',\n",
       " 'b',\n",
       " 't',\n",
       " 'c',\n",
       " 's',\n",
       " 'G',\n",
       " 'S',\n",
       " 'F',\n",
       " 't',\n",
       " 'p',\n",
       " 'c',\n",
       " 'w',\n",
       " 't',\n",
       " 's',\n",
       " 't',\n",
       " 'G',\n",
       " 'a',\n",
       " 'G',\n",
       " 's',\n",
       " 'A',\n",
       " 'I',\n",
       " 'F',\n",
       " 't',\n",
       " 'n',\n",
       " 's',\n",
       " 'G',\n",
       " 'F',\n",
       " 'o',\n",
       " 'u',\n",
       " 's',\n",
       " 'G',\n",
       " '(']"
      ]
     },
     "execution_count": 125,
     "metadata": {},
     "output_type": "execute_result"
    }
   ],
   "source": [
    "o"
   ]
  },
  {
   "cell_type": "code",
   "execution_count": 127,
   "id": "8aa2f38c-35bb-4852-b1a9-170731e45ab2",
   "metadata": {},
   "outputs": [
    {
     "data": {
      "text/plain": [
       "['hehe',\n",
       " 'article',\n",
       " 'is',\n",
       " 'about',\n",
       " 'the',\n",
       " 'company.',\n",
       " 'For',\n",
       " 'the',\n",
       " 'search',\n",
       " 'engine',\n",
       " 'provided',\n",
       " 'by',\n",
       " 'the',\n",
       " 'company,',\n",
       " 'see',\n",
       " 'Google',\n",
       " 'Search.',\n",
       " 'For',\n",
       " 'the',\n",
       " 'parent',\n",
       " 'company',\n",
       " 'with',\n",
       " 'the',\n",
       " 'stock',\n",
       " 'tickers',\n",
       " 'GOOG',\n",
       " 'and',\n",
       " 'GOOGL,',\n",
       " 'see',\n",
       " 'Alphabet',\n",
       " 'Inc.',\n",
       " 'For',\n",
       " 'the',\n",
       " 'number,',\n",
       " 'see',\n",
       " 'Googol.',\n",
       " 'For',\n",
       " 'other',\n",
       " 'uses,',\n",
       " 'see',\n",
       " 'Google',\n",
       " '(disambiguation).']"
      ]
     },
     "execution_count": 127,
     "metadata": {},
     "output_type": "execute_result"
    }
   ],
   "source": [
    "k"
   ]
  },
  {
   "cell_type": "code",
   "execution_count": 133,
   "id": "20573b29-4592-4a81-805d-86c8bb62eec5",
   "metadata": {},
   "outputs": [
    {
     "data": {
      "text/plain": [
       "['po', 'dod']"
      ]
     },
     "execution_count": 133,
     "metadata": {},
     "output_type": "execute_result"
    }
   ],
   "source": [
    "\"po:dod\".split(\":\")"
   ]
  },
  {
   "cell_type": "code",
   "execution_count": 135,
   "id": "f6cafe8b-9b60-42bb-b085-458a3c341de3",
   "metadata": {},
   "outputs": [
    {
     "data": {
      "text/plain": [
       "55"
      ]
     },
     "execution_count": 135,
     "metadata": {},
     "output_type": "execute_result"
    }
   ],
   "source": [
    "f.fileno()"
   ]
  },
  {
   "cell_type": "code",
   "execution_count": 137,
   "id": "cbc865ca-784e-42cf-8d98-b78024994aa5",
   "metadata": {},
   "outputs": [
    {
     "data": {
      "text/plain": [
       "<_io.TextIOWrapper name='google.txt' mode='r+' encoding='UTF-8'>"
      ]
     },
     "execution_count": 137,
     "metadata": {},
     "output_type": "execute_result"
    }
   ],
   "source": [
    "f"
   ]
  },
  {
   "cell_type": "code",
   "execution_count": 139,
   "id": "64d0dc2c-127b-4d84-abee-73d3434639bc",
   "metadata": {},
   "outputs": [],
   "source": [
    "import os\n",
    "os.remove(\"google.txt\")"
   ]
  },
  {
   "cell_type": "code",
   "execution_count": 141,
   "id": "1277d895-f1f2-4f4b-bbcf-d40c5ff66234",
   "metadata": {},
   "outputs": [],
   "source": [
    "f = open(\"text.txt\",\"w\")"
   ]
  },
  {
   "cell_type": "code",
   "execution_count": 143,
   "id": "7a2120da-afc4-448d-9819-eb8e09dcd4a3",
   "metadata": {},
   "outputs": [
    {
     "data": {
      "text/plain": [
       "_io.TextIOWrapper"
      ]
     },
     "execution_count": 143,
     "metadata": {},
     "output_type": "execute_result"
    }
   ],
   "source": [
    "type(f)"
   ]
  },
  {
   "cell_type": "code",
   "execution_count": null,
   "id": "8a1872ac-1d1c-4920-867a-42de9cf7532b",
   "metadata": {},
   "outputs": [],
   "source": []
  }
 ],
 "metadata": {
  "kernelspec": {
   "display_name": "Python [conda env:base] *",
   "language": "python",
   "name": "conda-base-py"
  },
  "language_info": {
   "codemirror_mode": {
    "name": "ipython",
    "version": 3
   },
   "file_extension": ".py",
   "mimetype": "text/x-python",
   "name": "python",
   "nbconvert_exporter": "python",
   "pygments_lexer": "ipython3",
   "version": "3.12.7"
  }
 },
 "nbformat": 4,
 "nbformat_minor": 5
}
